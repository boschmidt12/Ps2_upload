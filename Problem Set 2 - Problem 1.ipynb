{
 "cells": [
  {
   "cell_type": "markdown",
   "metadata": {},
   "source": [
    "# Problem 1\n",
    "## Problem 1a)"
   ]
  },
  {
   "cell_type": "code",
   "execution_count": 1,
   "metadata": {
    "collapsed": false
   },
   "outputs": [],
   "source": [
    "import numpy as np\n",
    "import pandas as pd\n",
    "import urllib.request as url\n",
    "\n",
    "dat = url.urlopen(\"http://www.nbi.dk/~koskinen/Teaching/AdvancedMethodsInAppliedStatistics2017/data/ProblemSet2_Prob1.txt\").read()\n",
    "dat = dat.decode(\"utf-8\")\n",
    "dat = dat.split(\"\\n\")\n",
    "df = pd.DataFrame(dat)\n",
    "df.columns=['Values']\n",
    "df = df['Values'].str.split(' ',5,expand=True)\n",
    "df.columns=['f1','f2', 'f3', 'f4', 'f5']\n",
    "df = df.drop(df.index[[5000]])"
   ]
  },
  {
   "cell_type": "markdown",
   "metadata": {},
   "source": [
    "## Column 1:"
   ]
  },
  {
   "cell_type": "markdown",
   "metadata": {},
   "source": [
    "Define array for column 1:"
   ]
  },
  {
   "cell_type": "code",
   "execution_count": 2,
   "metadata": {
    "collapsed": false
   },
   "outputs": [
    {
     "name": "stdout",
     "output_type": "stream",
     "text": [
      "1.99947\n",
      "2.0\n",
      "0.000152\n",
      "0.0\n"
     ]
    }
   ],
   "source": [
    "df['f1'] = pd.to_numeric(df['f1'])\n",
    "arr1 = np.array(df['f1'])\n",
    "maxtrue = np.amax(arr1)\n",
    "maxce = np.ceil(np.amax(arr1))\n",
    "mintrue = np.amin(arr1)\n",
    "minfl = np.floor(np.amin(arr1))\n",
    "#print(maxtrue);print(maxce)\n",
    "#print(mintrue);print(minfl)"
   ]
  },
  {
   "cell_type": "markdown",
   "metadata": {},
   "source": [
    "Plot histogram to determine the function:"
   ]
  },
  {
   "cell_type": "code",
   "execution_count": 3,
   "metadata": {
    "collapsed": false
   },
   "outputs": [
    {
     "data": {
      "image/png": "[encoded data removed]",
      "text/plain": [
       "<matplotlib.figure.Figure at 0x1c2ef419c50>"
      ]
     },
     "metadata": {},
     "output_type": "display_data"
    }
   ],
   "source": [
    "import matplotlib.pyplot as plt\n",
    "#%matplotlib inline\n",
    "plt.hist(arr1[1000:2000],bins=100)\n",
    "plt.show()"
   ]
  },
  {
   "cell_type": "markdown",
   "metadata": {},
   "source": [
    "Clearly, this is data sampled from the PDF $\\sin(ax+1)^2$ for $a \\approx 6$."
   ]
  },
  {
   "cell_type": "code",
   "execution_count": 140,
   "metadata": {
    "collapsed": false
   },
   "outputs": [],
   "source": [
    "np.set_printoptions(threshold=np.nan)"
   ]
  },
  {
   "cell_type": "code",
   "execution_count": 4,
   "metadata": {
    "collapsed": false
   },
   "outputs": [
    {
     "name": "stdout",
     "output_type": "stream",
     "text": [
      "Parameter estimate: [ 5.96185442]\n",
      "Parameter uncertainty: [[ 0.00276476]]\n"
     ]
    }
   ],
   "source": [
    "def LLH1(x):\n",
    "    a = x[0]\n",
    "    dat = list()\n",
    "    for x in arr1[2100:2200]: #Different intervals completely change the parameter estimate.\n",
    "        val = -np.log( ((np.sin(a*x+1))**2)/((1/2)*( (np.cos(1)*np.sin(1)+2*a-np.cos(2*a+1)*np.sin(2*a+1)) /a )) )\n",
    "        dat.append(val)\n",
    "    return np.sum(dat);\n",
    "\n",
    "from scipy.optimize import minimize\n",
    "\n",
    "x0 = np.array([5])\n",
    "res = minimize(LLH1,x0)\n",
    "print('Parameter estimate:', res.x)\n",
    "print('Parameter uncertainty:', res.hess_inv)"
   ]
  },
  {
   "cell_type": "code",
   "execution_count": 23,
   "metadata": {
    "collapsed": false
   },
   "outputs": [
    {
     "data": {
      "image/png": "[encoded data removed]",
      "text/plain": [
       "<matplotlib.figure.Figure at 0x1c2f25ff9e8>"
      ]
     },
     "metadata": {},
     "output_type": "display_data"
    }
   ],
   "source": [
    "xplotvals = np.arange(0, 2, 0.01)\n",
    "a=5.96185442\n",
    "y0 = ((np.sin(a*xplotvals+1))**2)/((1/2)*( (np.cos(1)*np.sin(1)+2*a-np.cos(2*a+1)*np.sin(2*a+1)) /a ))\n",
    "plt.plot(xplotvals,y0)\n",
    "plt.hist(arr1,bins=100,normed=True)\n",
    "\n",
    "fig1 = plt.gcf()\n",
    "\n",
    "plt.show()\n",
    "\n",
    "fig1.savefig('col1.eps', dpi=1200)"
   ]
  },
  {
   "cell_type": "markdown",
   "metadata": {},
   "source": [
    "Parameter error is the square roots of the diagonal elements of the inverse of the Hessian, so parameter error is $0.05$."
   ]
  },
  {
   "cell_type": "markdown",
   "metadata": {},
   "source": [
    "Next, we calculate the chi-squared goodness of fit:"
   ]
  },
  {
   "cell_type": "code",
   "execution_count": 148,
   "metadata": {
    "collapsed": false
   },
   "outputs": [
    {
     "name": "stdout",
     "output_type": "stream",
     "text": [
      "6.57142502022\n"
     ]
    }
   ],
   "source": [
    "#Values from the histogram\n",
    "y, x, _ = plt.hist(arr1,bins=100,normed=True)\n",
    "xvals = list()\n",
    "for i in range((len(x)-1)):\n",
    "    val = (x[i]+x[i+1])/2\n",
    "    xvals.append(val)\n",
    "yvals = list()\n",
    "a=5.96185442\n",
    "for i in range(len(xvals)):\n",
    "    val = ((np.sin(a*xvals[i]+1))**2)/((1/2)*( (np.cos(1)*np.sin(1)+2*a-np.cos(2*a+1)*np.sin(2*a+1)) /a ))\n",
    "    yvals.append(val)\n",
    "chicalc = list()\n",
    "for i in range(len(y)):\n",
    "    val = ((y[i]-yvals[i])**2)/yvals[i]\n",
    "    chicalc.append(val)\n",
    "print(sum(chicalc))"
   ]
  },
  {
   "cell_type": "markdown",
   "metadata": {},
   "source": [
    "Using scipy:"
   ]
  },
  {
   "cell_type": "code",
   "execution_count": 133,
   "metadata": {
    "collapsed": false
   },
   "outputs": [
    {
     "name": "stdout",
     "output_type": "stream",
     "text": [
      "6.57142502022\n"
     ]
    }
   ],
   "source": [
    "from scipy.stats import chisquare\n",
    "test = chisquare(y, yvals)\n",
    "print(test.statistic)"
   ]
  },
  {
   "cell_type": "markdown",
   "metadata": {},
   "source": [
    "Calculate the $p$-value by integrating the chi-square distribution from $\\chi^2_{\\text{min}}$ to $\\infty$ for $n_{\\text{d}}=100-1$ degrees of freedom: "
   ]
  },
  {
   "cell_type": "code",
   "execution_count": 27,
   "metadata": {
    "collapsed": false
   },
   "outputs": [
    {
     "data": {
      "text/plain": [
       "0.9999999999999791"
      ]
     },
     "execution_count": 27,
     "metadata": {},
     "output_type": "execute_result"
    }
   ],
   "source": [
    "import scipy.integrate as integrate\n",
    "from scipy.stats import chi2\n",
    "\n",
    "res = integrate.quad(lambda x: chi2.pdf(x,99), 6.57, np.inf)\n",
    "res[0]"
   ]
  },
  {
   "cell_type": "markdown",
   "metadata": {},
   "source": [
    "The fit is good."
   ]
  },
  {
   "cell_type": "markdown",
   "metadata": {},
   "source": [
    "## Column five:"
   ]
  },
  {
   "cell_type": "code",
   "execution_count": 8,
   "metadata": {
    "collapsed": false
   },
   "outputs": [
    {
     "name": "stdout",
     "output_type": "stream",
     "text": [
      "9.999879\n",
      "10.0\n",
      "1.000164\n",
      "1.0\n"
     ]
    }
   ],
   "source": [
    "df['f5'] = pd.to_numeric(df['f5'])\n",
    "arr5 = np.array(df['f5'])\n",
    "maxtrue = np.amax(arr5)\n",
    "maxce = np.ceil(np.amax(arr5))\n",
    "mintrue = np.amin(arr5)\n",
    "minfl = np.floor(np.amin(arr5))\n",
    "#print(maxtrue);print(maxce)\n",
    "#print(mintrue);print(minfl)"
   ]
  },
  {
   "cell_type": "code",
   "execution_count": 123,
   "metadata": {
    "collapsed": false
   },
   "outputs": [
    {
     "data": {
      "image/png": "[encoded data removed]",
      "text/plain": [
       "<matplotlib.figure.Figure at 0x21a73aafcc0>"
      ]
     },
     "metadata": {},
     "output_type": "display_data"
    }
   ],
   "source": [
    "import matplotlib.pyplot as plt\n",
    "\n",
    "plt.hist(arr5,bins=100)\n",
    "plt.xlim(1, 10)\n",
    "plt.show()"
   ]
  },
  {
   "cell_type": "markdown",
   "metadata": {},
   "source": [
    "This looks like a Poisson or exponential decay. The decay doesn't seem to be fast enough to be exponential (e.g. half-life changes throughout)."
   ]
  },
  {
   "cell_type": "code",
   "execution_count": 124,
   "metadata": {
    "collapsed": false
   },
   "outputs": [
    {
     "name": "stdout",
     "output_type": "stream",
     "text": [
      "Parameter estimate: [-1.34026691]\n",
      "Parameter uncertainty: [[ 0.00046706]]\n"
     ]
    }
   ],
   "source": [
    "def LLH5(x):\n",
    "    a = x[0]\n",
    "    dat = list()\n",
    "    for x in arr5:\n",
    "        val = -np.log( (x**a)/((10*(2**a)*(5**a)-1)/(a+1))   )\n",
    "        dat.append(val)\n",
    "    return sum(dat);\n",
    "\n",
    "from scipy.optimize import minimize\n",
    "\n",
    "x0 = np.array([0.5])\n",
    "res = minimize(LLH5,x0)\n",
    "print('Parameter estimate:', res.x)\n",
    "print('Parameter uncertainty:', res.hess_inv)"
   ]
  },
  {
   "cell_type": "code",
   "execution_count": 26,
   "metadata": {
    "collapsed": false
   },
   "outputs": [
    {
     "data": {
      "image/png": "[encoded data removed]",
      "text/plain": [
       "<matplotlib.figure.Figure at 0x1c2f2dd7780>"
      ]
     },
     "metadata": {},
     "output_type": "display_data"
    }
   ],
   "source": [
    "xplotvals = np.arange(1, 10, 0.01)\n",
    "y0 = ( (xplotvals**(-1.34026691))/((10*(2**(-1.34026691))*(5**(-1.34026691))-1)/((-1.34026691)+1)) )\n",
    "plt.plot(xplotvals,y0)\n",
    "plt.hist(arr5,bins=100,normed=True)\n",
    "plt.xlim(1,10)\n",
    "\n",
    "fig1 = plt.gcf()\n",
    "\n",
    "plt.show()\n",
    "\n",
    "fig1.savefig('col5.eps', dpi=1200, bbox_inches='tight')"
   ]
  },
  {
   "cell_type": "markdown",
   "metadata": {
    "collapsed": true
   },
   "source": [
    "Parameter error is the square roots of the diagonal elements of the inverse of the Hessian, so parameter error is $0.02$."
   ]
  },
  {
   "cell_type": "markdown",
   "metadata": {
    "collapsed": true
   },
   "source": [
    "Chi-square goodness-of-fit:"
   ]
  },
  {
   "cell_type": "code",
   "execution_count": 138,
   "metadata": {
    "collapsed": false
   },
   "outputs": [
    {
     "name": "stdout",
     "output_type": "stream",
     "text": [
      "0.238253098198\n"
     ]
    }
   ],
   "source": [
    "#Values from the histogram\n",
    "y, x, _ = plt.hist(arr5,bins=100,normed=True)\n",
    "xvals = list()\n",
    "for i in range((len(x)-1)):\n",
    "    val = (x[i]+x[i+1])/2\n",
    "    xvals.append(val)\n",
    "yvals = list()\n",
    "for i in range(len(xvals)):\n",
    "    val = ( (xvals[i]**(-1.34026691))/((10*(2**(-1.34026691))*(5**(-1.34026691))-1)/((-1.34026691)+1)) )\n",
    "    yvals.append(val)\n",
    "chicalc = list()\n",
    "for i in range(len(y)):\n",
    "    val = ((y[i]-yvals[i])**2)/yvals[i]\n",
    "    chicalc.append(val)\n",
    "print(sum(chicalc))"
   ]
  },
  {
   "cell_type": "code",
   "execution_count": 28,
   "metadata": {
    "collapsed": false
   },
   "outputs": [
    {
     "data": {
      "text/plain": [
       "0.9999999999999765"
      ]
     },
     "execution_count": 28,
     "metadata": {},
     "output_type": "execute_result"
    }
   ],
   "source": [
    "import scipy.integrate as integrate\n",
    "from scipy.stats import chi2\n",
    "\n",
    "res = integrate.quad(lambda x: chi2.pdf(x,99), 0.2383, np.inf)\n",
    "res[0]"
   ]
  },
  {
   "cell_type": "markdown",
   "metadata": {
    "collapsed": true
   },
   "source": [
    "The fit is good."
   ]
  },
  {
   "cell_type": "code",
   "execution_count": null,
   "metadata": {
    "collapsed": true
   },
   "outputs": [],
   "source": []
  },
  {
   "cell_type": "code",
   "execution_count": null,
   "metadata": {
    "collapsed": true
   },
   "outputs": [],
   "source": []
  },
  {
   "cell_type": "code",
   "execution_count": null,
   "metadata": {
    "collapsed": true
   },
   "outputs": [],
   "source": []
  }
 ],
 "metadata": {
  "kernelspec": {
   "display_name": "Python 3",
   "language": "python",
   "name": "python3"
  },
  "language_info": {
   "codemirror_mode": {
    "name": "ipython",
    "version": 3
   },
   "file_extension": ".py",
   "mimetype": "text/x-python",
   "name": "python",
   "nbconvert_exporter": "python",
   "pygments_lexer": "ipython3",
   "version": "3.6.0"
  }
 },
 "nbformat": 4,
 "nbformat_minor": 2
}
