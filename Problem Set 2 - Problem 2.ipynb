{
 "cells": [
  {
   "cell_type": "markdown",
   "metadata": {},
   "source": [
    "# Problem 2\n",
    "## Problem 2a"
   ]
  },
  {
   "cell_type": "code",
   "execution_count": 4,
   "metadata": {
    "collapsed": false
   },
   "outputs": [],
   "source": [
    "import numpy as np\n",
    "import pandas as pd\n",
    "import urllib.request as url\n",
    "\n",
    "dat = url.urlopen(\"http://www.nbi.dk/~koskinen/Teaching/AdvancedMethodsInAppliedStatistics2017/data/ProblemSet2_Prob2_NucData.txt\").read()\n",
    "dat = dat.decode(\"utf-8\")\n",
    "dat = dat.split(\"\\n\")\n",
    "df = pd.DataFrame(dat)\n",
    "df.columns=['Values']\n",
    "df = df.drop(df.index[[20000]])"
   ]
  },
  {
   "cell_type": "code",
   "execution_count": 5,
   "metadata": {
    "collapsed": false
   },
   "outputs": [],
   "source": [
    "df['Values'] = pd.to_numeric(df['Values'])"
   ]
  },
  {
   "cell_type": "code",
   "execution_count": 3,
   "metadata": {
    "collapsed": false
   },
   "outputs": [
    {
     "data": {
      "text/plain": [
       "-1.9476180000000001"
      ]
     },
     "execution_count": 3,
     "metadata": {},
     "output_type": "execute_result"
    }
   ],
   "source": [
    "min(df['Values'])"
   ]
  },
  {
   "cell_type": "code",
   "execution_count": 6,
   "metadata": {
    "collapsed": false
   },
   "outputs": [],
   "source": [
    "import scipy.integrate as integrate"
   ]
  },
  {
   "cell_type": "markdown",
   "metadata": {},
   "source": [
    "Create 100 separate entries in a dictionary for easy retrieval when calculating log-likelihoods:"
   ]
  },
  {
   "cell_type": "code",
   "execution_count": 7,
   "metadata": {
    "collapsed": false
   },
   "outputs": [],
   "source": [
    "from collections import defaultdict\n",
    "d = defaultdict()\n",
    "k = 0\n",
    "while k<100:\n",
    "    d[k] = df['Values'][(0+200*k):(200+200*k)]\n",
    "    k +=1"
   ]
  },
  {
   "cell_type": "code",
   "execution_count": 8,
   "metadata": {
    "collapsed": false
   },
   "outputs": [
    {
     "data": {
      "text/plain": [
       "303.86844767899737"
      ]
     },
     "execution_count": 8,
     "metadata": {},
     "output_type": "execute_result"
    }
   ],
   "source": [
    "b=1\n",
    "sigma=1\n",
    "dat = list()\n",
    "for t in d[0]:\n",
    "    val, err = -np.log( integrate.quad(lambda tt: (np.exp(-((t-tt)**2)/(2*sigma**2)   )/(np.sqrt(2*np.pi)*sigma)) * (np.exp( -tt/b )/b ), 0,np.inf) )\n",
    "    dat.append(val)\n",
    "sum(dat)"
   ]
  },
  {
   "cell_type": "code",
   "execution_count": 9,
   "metadata": {
    "collapsed": true
   },
   "outputs": [],
   "source": [
    "dvals = defaultdict()"
   ]
  },
  {
   "cell_type": "markdown",
   "metadata": {},
   "source": [
    "Working without a for loop on the minimization:"
   ]
  },
  {
   "cell_type": "markdown",
   "metadata": {},
   "source": [
    "The normalization factor:"
   ]
  },
  {
   "cell_type": "code",
   "execution_count": 10,
   "metadata": {
    "collapsed": false
   },
   "outputs": [
    {
     "data": {
      "text/plain": [
       "(0.9936949926697197, 4.596900699301095e-10)"
      ]
     },
     "execution_count": 10,
     "metadata": {},
     "output_type": "execute_result"
    }
   ],
   "source": [
    "from scipy.special import erf\n",
    "\n",
    "integrate.quad(lambda  t: (1/2)*np.exp(-t/b)*(np.exp(t/b)*np.exp(-(1/2)*(2*b*t-sigma**2)/b**2)+np.exp((1/2)*sigma**2/b**2)*erf((1/2)*np.sqrt(2)*(b*t-sigma**2)/(sigma*b)))/b, -2,700)"
   ]
  },
  {
   "cell_type": "markdown",
   "metadata": {},
   "source": [
    "So the function IS normalized..."
   ]
  },
  {
   "cell_type": "markdown",
   "metadata": {},
   "source": [
    "The integrand:"
   ]
  },
  {
   "cell_type": "code",
   "execution_count": null,
   "metadata": {
    "collapsed": true
   },
   "outputs": [],
   "source": [
    "(1/2)*np.exp(-t/b)*(np.exp(t/b)*np.exp(-(1/2)*(2*b*t-sigma**2)/b**2)+np.exp((1/2)*sigma**2/b**2)*erf((1/2)*np.sqrt(2)*(b*t-sigma**2)/(sigma*b)))/b"
   ]
  },
  {
   "cell_type": "code",
   "execution_count": 11,
   "metadata": {
    "collapsed": false
   },
   "outputs": [
    {
     "name": "stdout",
     "output_type": "stream",
     "text": [
      "Parameter estimate: [ 1.01547026  0.58373607]\n"
     ]
    }
   ],
   "source": [
    "def LLH1(x):\n",
    "    b = x[0]\n",
    "    sigma = x[1]\n",
    "    dat = list()\n",
    "    for t in d[0]:\n",
    "        val = -np.log( (1/2)*np.exp(-t/b)*(np.exp(t/b)*np.exp(-(1/2)*(2*b*t-sigma**2)/b**2)+np.exp((1/2)*sigma**2/b**2)*erf((1/2)*np.sqrt(2)*(b*t-sigma**2)/(sigma*b)))/b )\n",
    "        dat.append(val)\n",
    "    return sum(dat);\n",
    "\n",
    "from scipy.optimize import minimize\n",
    "\n",
    "x0 = np.array([1,0.5])\n",
    "cons = [{'type':'ineq', 'fun': lambda x: x}, {'type':'ineq', 'fun': lambda x: x}]\n",
    "res = minimize(LLH1,x0,constraints=cons)\n",
    "print('Parameter estimate:', res.x)\n",
    "#print('Parameter uncertainty:', res.hess_inv)"
   ]
  },
  {
   "cell_type": "markdown",
   "metadata": {},
   "source": [
    "Minimize all of the 100 trials and get parameter estimates for $b$ and $\\sigma_t$:"
   ]
  },
  {
   "cell_type": "code",
   "execution_count": 12,
   "metadata": {
    "collapsed": false
   },
   "outputs": [
    {
     "name": "stderr",
     "output_type": "stream",
     "text": [
      "C:\\Users\\Bo\\Anaconda3\\lib\\site-packages\\ipykernel\\__main__.py:6: RuntimeWarning: invalid value encountered in log\n",
      "C:\\Users\\Bo\\Anaconda3\\lib\\site-packages\\ipykernel\\__main__.py:6: RuntimeWarning: divide by zero encountered in log\n",
      "C:\\Users\\Bo\\Anaconda3\\lib\\site-packages\\ipykernel\\__main__.py:6: RuntimeWarning: overflow encountered in exp\n",
      "C:\\Users\\Bo\\Anaconda3\\lib\\site-packages\\ipykernel\\__main__.py:6: RuntimeWarning: invalid value encountered in double_scalars\n",
      "C:\\Users\\Bo\\Anaconda3\\lib\\site-packages\\ipykernel\\__main__.py:6: RuntimeWarning: divide by zero encountered in double_scalars\n"
     ]
    },
    {
     "data": {
      "text/plain": [
       "defaultdict(None,\n",
       "            {0: array([ 1.01547026,  0.58373607]),\n",
       "             1: array([ 0.99022439,  0.63533437]),\n",
       "             2: array([ 0.90129033,  0.52800409]),\n",
       "             3: array([ 1.05684131,  0.62669876]),\n",
       "             4: array([ 1.1580429 ,  0.53967628]),\n",
       "             5: array([ 0.92444198,  0.66578832]),\n",
       "             6: array([ 1.17796937,  0.57428269]),\n",
       "             7: array([ 0.95223657,  0.66173246]),\n",
       "             8: array([ 0.95756264,  0.65080534]),\n",
       "             9: array([ 1.12754527,  0.62742629]),\n",
       "             10: array([ 0.77740499,  0.6952858 ]),\n",
       "             11: array([ 0.94610819,  0.49962925]),\n",
       "             12: array([ 1.0714116 ,  0.47755484]),\n",
       "             13: array([ 0.88908542,  0.64037298]),\n",
       "             14: array([ 0.97083406,  0.6074288 ]),\n",
       "             15: array([ 1.08168101,  0.64963499]),\n",
       "             16: array([ 0.94864897,  0.63138119]),\n",
       "             17: array([ 0.9965728 ,  0.66810884]),\n",
       "             18: array([ 1.01833838,  0.66503024]),\n",
       "             19: array([ 1.05321828,  0.67621303]),\n",
       "             20: array([ 1.0495982 ,  0.63057052]),\n",
       "             21: array([ 1.1043655 ,  0.57072115]),\n",
       "             22: array([ 1.11595146,  0.6321629 ]),\n",
       "             23: array([ 1.03987152,  0.6004859 ]),\n",
       "             24: array([ 1.01581348,  0.62738915]),\n",
       "             25: array([ 0.98792179,  0.62939082]),\n",
       "             26: array([ 1.02090627,  0.46645779]),\n",
       "             27: array([ 1.06862067,  0.54887179]),\n",
       "             28: array([ 0.96180262,  0.74817307]),\n",
       "             29: array([ 0.9890414 ,  0.58130895]),\n",
       "             30: array([ 0.89830489,  0.54228316]),\n",
       "             31: array([ 1.00445002,  0.55917614]),\n",
       "             32: array([ 0.91693389,  0.66538014]),\n",
       "             33: array([ 0.8731318 ,  0.62219201]),\n",
       "             34: array([ 0.82128399,  0.59406029]),\n",
       "             35: array([ 0.94047897,  0.64269096]),\n",
       "             36: array([ 0.97515927,  0.61585032]),\n",
       "             37: array([ 1.15957787,  0.63692314]),\n",
       "             38: array([ 1.08404112,  0.61147662]),\n",
       "             39: array([ 1.09349182,  0.57137646]),\n",
       "             40: array([ 0.91337288,  0.54559248]),\n",
       "             41: array([ 1.11371944,  0.61689339]),\n",
       "             42: array([ 0.92739655,  0.52345838]),\n",
       "             43: array([ 1.00737308,  0.70410013]),\n",
       "             44: array([ 0.94734419,  0.54947224]),\n",
       "             45: array([ 0.95879608,  0.50933382]),\n",
       "             46: array([ 1.05616645,  0.61519465]),\n",
       "             47: array([ 1.00400237,  0.59714349]),\n",
       "             48: array([ 1.12315012,  0.51514415]),\n",
       "             49: array([ 0.95792228,  0.55186796]),\n",
       "             50: array([ 1.10365687,  0.58761934]),\n",
       "             51: array([ 0.96293374,  0.5813469 ]),\n",
       "             52: array([ 0.86243505,  0.56282214]),\n",
       "             53: array([ 0.99462577,  0.69226099]),\n",
       "             54: array([ 0.84902777,  0.68959327]),\n",
       "             55: array([ 0.91034369,  0.69633203]),\n",
       "             56: array([ 1.0192759,  0.643528 ]),\n",
       "             57: array([ 0.97870095,  0.49063414]),\n",
       "             58: array([ 0.92427601,  0.71414057]),\n",
       "             59: array([ 1.04837618,  0.58754939]),\n",
       "             60: array([ 0.9584782 ,  0.45227146]),\n",
       "             61: array([ 1.0235379 ,  0.53058649]),\n",
       "             62: array([ 0.97549591,  0.62920726]),\n",
       "             63: array([ 1.05534835,  0.54780021]),\n",
       "             64: array([ 0.93221273,  0.63550743]),\n",
       "             65: array([ 0.90559189,  0.75432282]),\n",
       "             66: array([ 1.09383748,  0.62887805]),\n",
       "             67: array([ 1.05295892,  0.64245256]),\n",
       "             68: array([ 1.02941393,  0.62117837]),\n",
       "             69: array([ 0.97619879,  0.64351155]),\n",
       "             70: array([ 0.96472886,  0.64752096]),\n",
       "             71: array([ 0.87052642,  0.59689198]),\n",
       "             72: array([ 0.96557443,  0.58570313]),\n",
       "             73: array([ 0.91084688,  0.65236448]),\n",
       "             74: array([ 0.86993292,  0.70528069]),\n",
       "             75: array([ 1.09467551,  0.61887769]),\n",
       "             76: array([ 0.99741401,  0.62437682]),\n",
       "             77: array([ 1.02876422,  0.54535001]),\n",
       "             78: array([ 0.98238102,  0.63200672]),\n",
       "             79: array([ 1.18046528,  0.58126372]),\n",
       "             80: array([ 0.90900239,  0.71417613]),\n",
       "             81: array([ 1.01773013,  0.55571242]),\n",
       "             82: array([ 0.88824089,  0.74337564]),\n",
       "             83: array([ 0.94209844,  0.71116037]),\n",
       "             84: array([ 0.85269683,  0.70324668]),\n",
       "             85: array([ 1.22035976,  0.63592029]),\n",
       "             86: array([ 0.9178884 ,  0.67132712]),\n",
       "             87: array([ 0.96432782,  0.55841747]),\n",
       "             88: array([ 1.08544861,  0.62740967]),\n",
       "             89: array([ 1.02236898,  0.5718871 ]),\n",
       "             90: array([ 1.08964785,  0.51613167]),\n",
       "             91: array([ 0.91967378,  0.57042735]),\n",
       "             92: array([ 0.9237743 ,  0.65524272]),\n",
       "             93: array([ 0.78861107,  0.66450011]),\n",
       "             94: array([ 1.03643015,  0.57607784]),\n",
       "             95: array([ 1.1322806 ,  0.64005211]),\n",
       "             96: array([ 0.93395351,  0.68444221]),\n",
       "             97: array([ 0.96131151,  0.62112945]),\n",
       "             98: array([ 1.10649383,  0.58414843]),\n",
       "             99: array([ 0.91270238,  0.63638577])})"
      ]
     },
     "execution_count": 12,
     "metadata": {},
     "output_type": "execute_result"
    }
   ],
   "source": [
    "def LLH1(x):\n",
    "    b = x[0]\n",
    "    sigma = x[1]\n",
    "    dat = list()\n",
    "    for t in d[k]:\n",
    "        val = -np.log( (1/2)*np.exp(-t/b)*(np.exp(t/b)*np.exp(-(1/2)*(2*b*t-sigma**2)/b**2)+np.exp((1/2)*sigma**2/b**2)*erf((1/2)*np.sqrt(2)*(b*t-sigma**2)/(sigma*b)))/b )\n",
    "        dat.append(val)\n",
    "    return sum(dat);\n",
    "\n",
    "from scipy.optimize import minimize\n",
    "\n",
    "x0 = np.array([1,0.5])\n",
    "cons = [{'type':'ineq', 'fun': lambda x: x}, {'type':'ineq', 'fun': lambda x: x}]\n",
    "\n",
    "dvals = defaultdict()\n",
    "\n",
    "for k in range(100):\n",
    "    res = minimize(LLH1,x0,constraints=cons)\n",
    "    dvals[k] = res.x\n",
    "dvals"
   ]
  },
  {
   "cell_type": "markdown",
   "metadata": {},
   "source": [
    "The corresponding log-likelihood maximized values:"
   ]
  },
  {
   "cell_type": "code",
   "execution_count": 13,
   "metadata": {
    "collapsed": false
   },
   "outputs": [],
   "source": [
    "dvalsllh = defaultdict()\n",
    "for i in range(len(dvals)):\n",
    "    b = dvals[i][0]\n",
    "    sigma = dvals[i][1]\n",
    "    dat = list()\n",
    "    for t in d[i]:\n",
    "        val = -np.log( (1/2)*np.exp(-t/b)*(np.exp(t/b)*np.exp(-(1/2)*(2*b*t-sigma**2)/b**2)+np.exp((1/2)*sigma**2/b**2)*erf((1/2)*np.sqrt(2)*(b*t-sigma**2)/(sigma*b)))/b )\n",
    "        dat.append(val)\n",
    "    res = sum(dat);\n",
    "    dvalsllh[i] = res"
   ]
  },
  {
   "cell_type": "code",
   "execution_count": 14,
   "metadata": {
    "collapsed": false
   },
   "outputs": [
    {
     "data": {
      "text/plain": [
       "defaultdict(None,\n",
       "            {0: 290.6567817445171,\n",
       "             1: 307.1531468999022,\n",
       "             2: 270.18043490650433,\n",
       "             3: 303.71011724246563,\n",
       "             4: 302.28028889980345,\n",
       "             5: 294.98536406322802,\n",
       "             6: 311.2838729683607,\n",
       "             7: 292.91554499659287,\n",
       "             8: 296.29712239745317,\n",
       "             9: 312.53448544589094,\n",
       "             10: 278.78895528646848,\n",
       "             11: 275.14078962908002,\n",
       "             12: 285.29636286936739,\n",
       "             13: 296.64298644569237,\n",
       "             14: 291.67931699473741,\n",
       "             15: 307.7103679953475,\n",
       "             16: 295.48012506461856,\n",
       "             17: 304.23154615232471,\n",
       "             18: 301.67410690639474,\n",
       "             19: 310.07398491666828,\n",
       "             20: 298.20063439555696,\n",
       "             21: 301.40587407299273,\n",
       "             22: 310.83581375768762,\n",
       "             23: 299.07817592130277,\n",
       "             24: 303.26245494402571,\n",
       "             25: 293.62624598951004,\n",
       "             26: 283.13943016131486,\n",
       "             27: 294.03980572326907,\n",
       "             28: 306.34100194559801,\n",
       "             29: 300.37086844414944,\n",
       "             30: 271.3792488855234,\n",
       "             31: 291.14345646984026,\n",
       "             32: 296.38359528889021,\n",
       "             33: 280.36033176696259,\n",
       "             34: 276.22351447579643,\n",
       "             35: 299.62868968759676,\n",
       "             36: 293.64173372141988,\n",
       "             37: 318.83913087860799,\n",
       "             38: 304.67238523431541,\n",
       "             39: 292.4228360341906,\n",
       "             40: 273.37988386230757,\n",
       "             41: 311.39950690493504,\n",
       "             42: 277.1627510431324,\n",
       "             43: 304.43752793253407,\n",
       "             44: 279.60199695920232,\n",
       "             45: 282.52004628176189,\n",
       "             46: 307.52490079545453,\n",
       "             47: 293.59272886225267,\n",
       "             48: 297.98108572406898,\n",
       "             49: 276.36911372686842,\n",
       "             50: 302.56137310417552,\n",
       "             51: 287.36829616537204,\n",
       "             52: 273.62571201818355,\n",
       "             53: 304.29483790934125,\n",
       "             54: 293.41004733267221,\n",
       "             55: 304.96879848721375,\n",
       "             56: 293.45012095574378,\n",
       "             57: 274.69858237887195,\n",
       "             58: 305.73638732709634,\n",
       "             59: 300.79872578972623,\n",
       "             60: 269.85807574315083,\n",
       "             61: 287.33263082712693,\n",
       "             62: 292.86000018702646,\n",
       "             63: 291.75054860908921,\n",
       "             64: 286.97085759030193,\n",
       "             65: 304.55654750141002,\n",
       "             66: 304.00891306435517,\n",
       "             67: 304.55744416581553,\n",
       "             68: 309.53766501884752,\n",
       "             69: 299.77326424186634,\n",
       "             70: 298.81551677978734,\n",
       "             71: 273.62581253762244,\n",
       "             72: 281.79701758522589,\n",
       "             73: 296.41841396800544,\n",
       "             74: 297.90935647074798,\n",
       "             75: 308.56397713891585,\n",
       "             76: 293.06705295356414,\n",
       "             77: 291.78441206251102,\n",
       "             78: 305.01582440915098,\n",
       "             79: 308.68792045277826,\n",
       "             80: 298.87502944981804,\n",
       "             81: 290.36240902382548,\n",
       "             82: 300.79148007568529,\n",
       "             83: 302.22379555959799,\n",
       "             84: 290.67625912903532,\n",
       "             85: 323.86683372460755,\n",
       "             86: 296.65740911161066,\n",
       "             87: 278.06520733165337,\n",
       "             88: 309.98306281481302,\n",
       "             89: 299.59552689148785,\n",
       "             90: 287.90879093662238,\n",
       "             91: 280.00612311322527,\n",
       "             92: 293.53167267009388,\n",
       "             93: 280.97146184654326,\n",
       "             94: 304.08363088156744,\n",
       "             95: 316.44139991777536,\n",
       "             96: 297.20343664805768,\n",
       "             97: 296.51369202670475,\n",
       "             98: 308.96601077073689,\n",
       "             99: 289.73371969262138})"
      ]
     },
     "execution_count": 14,
     "metadata": {},
     "output_type": "execute_result"
    }
   ],
   "source": [
    "dvalsllh"
   ]
  },
  {
   "cell_type": "code",
   "execution_count": 36,
   "metadata": {
    "collapsed": false
   },
   "outputs": [
    {
     "data": {
      "text/plain": [
       "289.73371969262138"
      ]
     },
     "execution_count": 36,
     "metadata": {},
     "output_type": "execute_result"
    }
   ],
   "source": [
    "dvalsllh[i]"
   ]
  },
  {
   "cell_type": "code",
   "execution_count": 40,
   "metadata": {
    "collapsed": false
   },
   "outputs": [
    {
     "name": "stderr",
     "output_type": "stream",
     "text": [
      "C:\\Users\\Bo\\Anaconda3\\lib\\site-packages\\ipykernel\\__main__.py:6: SettingWithCopyWarning: \n",
      "A value is trying to be set on a copy of a slice from a DataFrame\n",
      "\n",
      "See the caveats in the documentation: http://pandas.pydata.org/pandas-docs/stable/indexing.html#indexing-view-versus-copy\n",
      "C:\\Users\\Bo\\Anaconda3\\lib\\site-packages\\pandas\\core\\indexing.py:141: SettingWithCopyWarning: \n",
      "A value is trying to be set on a copy of a slice from a DataFrame\n",
      "\n",
      "See the caveats in the documentation: http://pandas.pydata.org/pandas-docs/stable/indexing.html#indexing-view-versus-copy\n",
      "  self._setitem_with_indexer(indexer, value)\n",
      "C:\\Users\\Bo\\Anaconda3\\lib\\site-packages\\ipykernel\\__main__.py:5: SettingWithCopyWarning: \n",
      "A value is trying to be set on a copy of a slice from a DataFrame\n",
      "\n",
      "See the caveats in the documentation: http://pandas.pydata.org/pandas-docs/stable/indexing.html#indexing-view-versus-copy\n"
     ]
    },
    {
     "data": {
      "text/html": [
       "<div>\n",
       "<table border=\"1\" class=\"dataframe\">\n",
       "  <thead>\n",
       "    <tr style=\"text-align: right;\">\n",
       "      <th></th>\n",
       "      <th>Experiment no.</th>\n",
       "      <th>b = 1</th>\n",
       "      <th>b not 1</th>\n",
       "    </tr>\n",
       "  </thead>\n",
       "  <tbody>\n",
       "    <tr>\n",
       "      <th>0</th>\n",
       "      <td>1</td>\n",
       "      <td>290.656782</td>\n",
       "      <td>290.674865</td>\n",
       "    </tr>\n",
       "    <tr>\n",
       "      <th>1</th>\n",
       "      <td>2</td>\n",
       "      <td>307.153147</td>\n",
       "      <td>307.160499</td>\n",
       "    </tr>\n",
       "    <tr>\n",
       "      <th>2</th>\n",
       "      <td>3</td>\n",
       "      <td>270.180435</td>\n",
       "      <td>271.004193</td>\n",
       "    </tr>\n",
       "    <tr>\n",
       "      <th>3</th>\n",
       "      <td>4</td>\n",
       "      <td>303.710117</td>\n",
       "      <td>303.945402</td>\n",
       "    </tr>\n",
       "    <tr>\n",
       "      <th>4</th>\n",
       "      <td>5</td>\n",
       "      <td>302.280289</td>\n",
       "      <td>304.108337</td>\n",
       "    </tr>\n",
       "    <tr>\n",
       "      <th>5</th>\n",
       "      <td>6</td>\n",
       "      <td>294.985364</td>\n",
       "      <td>295.418586</td>\n",
       "    </tr>\n",
       "    <tr>\n",
       "      <th>6</th>\n",
       "      <td>7</td>\n",
       "      <td>311.283873</td>\n",
       "      <td>313.555485</td>\n",
       "    </tr>\n",
       "    <tr>\n",
       "      <th>7</th>\n",
       "      <td>8</td>\n",
       "      <td>292.915545</td>\n",
       "      <td>293.083612</td>\n",
       "    </tr>\n",
       "    <tr>\n",
       "      <th>8</th>\n",
       "      <td>9</td>\n",
       "      <td>296.297122</td>\n",
       "      <td>296.432030</td>\n",
       "    </tr>\n",
       "    <tr>\n",
       "      <th>9</th>\n",
       "      <td>10</td>\n",
       "      <td>312.534485</td>\n",
       "      <td>313.684465</td>\n",
       "    </tr>\n",
       "    <tr>\n",
       "      <th>10</th>\n",
       "      <td>11</td>\n",
       "      <td>278.788955</td>\n",
       "      <td>282.614553</td>\n",
       "    </tr>\n",
       "    <tr>\n",
       "      <th>11</th>\n",
       "      <td>12</td>\n",
       "      <td>275.140790</td>\n",
       "      <td>275.389200</td>\n",
       "    </tr>\n",
       "    <tr>\n",
       "      <th>12</th>\n",
       "      <td>13</td>\n",
       "      <td>285.296363</td>\n",
       "      <td>285.706301</td>\n",
       "    </tr>\n",
       "    <tr>\n",
       "      <th>13</th>\n",
       "      <td>14</td>\n",
       "      <td>296.642986</td>\n",
       "      <td>297.641452</td>\n",
       "    </tr>\n",
       "    <tr>\n",
       "      <th>14</th>\n",
       "      <td>15</td>\n",
       "      <td>291.679317</td>\n",
       "      <td>291.744906</td>\n",
       "    </tr>\n",
       "    <tr>\n",
       "      <th>15</th>\n",
       "      <td>16</td>\n",
       "      <td>307.710368</td>\n",
       "      <td>308.179962</td>\n",
       "    </tr>\n",
       "    <tr>\n",
       "      <th>16</th>\n",
       "      <td>17</td>\n",
       "      <td>295.480125</td>\n",
       "      <td>295.685660</td>\n",
       "    </tr>\n",
       "    <tr>\n",
       "      <th>17</th>\n",
       "      <td>18</td>\n",
       "      <td>304.231546</td>\n",
       "      <td>304.232399</td>\n",
       "    </tr>\n",
       "    <tr>\n",
       "      <th>18</th>\n",
       "      <td>19</td>\n",
       "      <td>301.674107</td>\n",
       "      <td>301.698297</td>\n",
       "    </tr>\n",
       "    <tr>\n",
       "      <th>19</th>\n",
       "      <td>20</td>\n",
       "      <td>310.073985</td>\n",
       "      <td>310.269745</td>\n",
       "    </tr>\n",
       "    <tr>\n",
       "      <th>20</th>\n",
       "      <td>21</td>\n",
       "      <td>298.200634</td>\n",
       "      <td>298.376532</td>\n",
       "    </tr>\n",
       "    <tr>\n",
       "      <th>21</th>\n",
       "      <td>22</td>\n",
       "      <td>301.405874</td>\n",
       "      <td>302.214028</td>\n",
       "    </tr>\n",
       "    <tr>\n",
       "      <th>22</th>\n",
       "      <td>23</td>\n",
       "      <td>310.835814</td>\n",
       "      <td>311.776880</td>\n",
       "    </tr>\n",
       "    <tr>\n",
       "      <th>23</th>\n",
       "      <td>24</td>\n",
       "      <td>299.078176</td>\n",
       "      <td>299.197279</td>\n",
       "    </tr>\n",
       "    <tr>\n",
       "      <th>24</th>\n",
       "      <td>25</td>\n",
       "      <td>303.262455</td>\n",
       "      <td>303.281267</td>\n",
       "    </tr>\n",
       "    <tr>\n",
       "      <th>25</th>\n",
       "      <td>26</td>\n",
       "      <td>293.626246</td>\n",
       "      <td>293.637037</td>\n",
       "    </tr>\n",
       "    <tr>\n",
       "      <th>26</th>\n",
       "      <td>27</td>\n",
       "      <td>283.139430</td>\n",
       "      <td>283.176468</td>\n",
       "    </tr>\n",
       "    <tr>\n",
       "      <th>27</th>\n",
       "      <td>28</td>\n",
       "      <td>294.039806</td>\n",
       "      <td>294.399195</td>\n",
       "    </tr>\n",
       "    <tr>\n",
       "      <th>28</th>\n",
       "      <td>29</td>\n",
       "      <td>306.341002</td>\n",
       "      <td>306.439626</td>\n",
       "    </tr>\n",
       "    <tr>\n",
       "      <th>29</th>\n",
       "      <td>30</td>\n",
       "      <td>300.370868</td>\n",
       "      <td>300.380520</td>\n",
       "    </tr>\n",
       "    <tr>\n",
       "      <th>...</th>\n",
       "      <td>...</td>\n",
       "      <td>...</td>\n",
       "      <td>...</td>\n",
       "    </tr>\n",
       "    <tr>\n",
       "      <th>70</th>\n",
       "      <td>71</td>\n",
       "      <td>298.815517</td>\n",
       "      <td>298.909102</td>\n",
       "    </tr>\n",
       "    <tr>\n",
       "      <th>71</th>\n",
       "      <td>72</td>\n",
       "      <td>273.625813</td>\n",
       "      <td>274.966432</td>\n",
       "    </tr>\n",
       "    <tr>\n",
       "      <th>72</th>\n",
       "      <td>73</td>\n",
       "      <td>281.797018</td>\n",
       "      <td>281.887445</td>\n",
       "    </tr>\n",
       "    <tr>\n",
       "      <th>73</th>\n",
       "      <td>74</td>\n",
       "      <td>296.418414</td>\n",
       "      <td>297.040254</td>\n",
       "    </tr>\n",
       "    <tr>\n",
       "      <th>74</th>\n",
       "      <td>75</td>\n",
       "      <td>297.909356</td>\n",
       "      <td>299.201612</td>\n",
       "    </tr>\n",
       "    <tr>\n",
       "      <th>75</th>\n",
       "      <td>76</td>\n",
       "      <td>308.563977</td>\n",
       "      <td>309.217929</td>\n",
       "    </tr>\n",
       "    <tr>\n",
       "      <th>76</th>\n",
       "      <td>77</td>\n",
       "      <td>293.067053</td>\n",
       "      <td>293.067544</td>\n",
       "    </tr>\n",
       "    <tr>\n",
       "      <th>77</th>\n",
       "      <td>78</td>\n",
       "      <td>291.784412</td>\n",
       "      <td>291.849818</td>\n",
       "    </tr>\n",
       "    <tr>\n",
       "      <th>78</th>\n",
       "      <td>79</td>\n",
       "      <td>305.015824</td>\n",
       "      <td>305.039745</td>\n",
       "    </tr>\n",
       "    <tr>\n",
       "      <th>79</th>\n",
       "      <td>80</td>\n",
       "      <td>308.687920</td>\n",
       "      <td>310.969068</td>\n",
       "    </tr>\n",
       "    <tr>\n",
       "      <th>80</th>\n",
       "      <td>81</td>\n",
       "      <td>298.875029</td>\n",
       "      <td>299.477203</td>\n",
       "    </tr>\n",
       "    <tr>\n",
       "      <th>81</th>\n",
       "      <td>82</td>\n",
       "      <td>290.362409</td>\n",
       "      <td>290.387141</td>\n",
       "    </tr>\n",
       "    <tr>\n",
       "      <th>82</th>\n",
       "      <td>83</td>\n",
       "      <td>300.791480</td>\n",
       "      <td>301.694924</td>\n",
       "    </tr>\n",
       "    <tr>\n",
       "      <th>83</th>\n",
       "      <td>84</td>\n",
       "      <td>302.223796</td>\n",
       "      <td>302.463925</td>\n",
       "    </tr>\n",
       "    <tr>\n",
       "      <th>84</th>\n",
       "      <td>85</td>\n",
       "      <td>290.676259</td>\n",
       "      <td>292.300468</td>\n",
       "    </tr>\n",
       "    <tr>\n",
       "      <th>85</th>\n",
       "      <td>86</td>\n",
       "      <td>323.866834</td>\n",
       "      <td>327.175451</td>\n",
       "    </tr>\n",
       "    <tr>\n",
       "      <th>86</th>\n",
       "      <td>87</td>\n",
       "      <td>296.657409</td>\n",
       "      <td>297.171712</td>\n",
       "    </tr>\n",
       "    <tr>\n",
       "      <th>87</th>\n",
       "      <td>88</td>\n",
       "      <td>278.065207</td>\n",
       "      <td>278.165684</td>\n",
       "    </tr>\n",
       "    <tr>\n",
       "      <th>88</th>\n",
       "      <td>89</td>\n",
       "      <td>309.983063</td>\n",
       "      <td>310.514742</td>\n",
       "    </tr>\n",
       "    <tr>\n",
       "      <th>89</th>\n",
       "      <td>90</td>\n",
       "      <td>299.595527</td>\n",
       "      <td>299.635017</td>\n",
       "    </tr>\n",
       "    <tr>\n",
       "      <th>90</th>\n",
       "      <td>91</td>\n",
       "      <td>287.908791</td>\n",
       "      <td>288.521381</td>\n",
       "    </tr>\n",
       "    <tr>\n",
       "      <th>91</th>\n",
       "      <td>92</td>\n",
       "      <td>280.006123</td>\n",
       "      <td>280.532254</td>\n",
       "    </tr>\n",
       "    <tr>\n",
       "      <th>92</th>\n",
       "      <td>93</td>\n",
       "      <td>293.531673</td>\n",
       "      <td>293.972448</td>\n",
       "    </tr>\n",
       "    <tr>\n",
       "      <th>93</th>\n",
       "      <td>94</td>\n",
       "      <td>280.971462</td>\n",
       "      <td>284.594697</td>\n",
       "    </tr>\n",
       "    <tr>\n",
       "      <th>94</th>\n",
       "      <td>95</td>\n",
       "      <td>304.083631</td>\n",
       "      <td>304.187918</td>\n",
       "    </tr>\n",
       "    <tr>\n",
       "      <th>95</th>\n",
       "      <td>96</td>\n",
       "      <td>316.441400</td>\n",
       "      <td>317.682215</td>\n",
       "    </tr>\n",
       "    <tr>\n",
       "      <th>96</th>\n",
       "      <td>97</td>\n",
       "      <td>297.203437</td>\n",
       "      <td>297.526123</td>\n",
       "    </tr>\n",
       "    <tr>\n",
       "      <th>97</th>\n",
       "      <td>98</td>\n",
       "      <td>296.513692</td>\n",
       "      <td>296.630731</td>\n",
       "    </tr>\n",
       "    <tr>\n",
       "      <th>98</th>\n",
       "      <td>99</td>\n",
       "      <td>308.966011</td>\n",
       "      <td>309.817294</td>\n",
       "    </tr>\n",
       "    <tr>\n",
       "      <th>99</th>\n",
       "      <td>100</td>\n",
       "      <td>289.733720</td>\n",
       "      <td>290.330562</td>\n",
       "    </tr>\n",
       "  </tbody>\n",
       "</table>\n",
       "<p>100 rows × 3 columns</p>\n",
       "</div>"
      ],
      "text/plain": [
       "    Experiment no.       b = 1     b not 1\n",
       "0                1  290.656782  290.674865\n",
       "1                2  307.153147  307.160499\n",
       "2                3  270.180435  271.004193\n",
       "3                4  303.710117  303.945402\n",
       "4                5  302.280289  304.108337\n",
       "5                6  294.985364  295.418586\n",
       "6                7  311.283873  313.555485\n",
       "7                8  292.915545  293.083612\n",
       "8                9  296.297122  296.432030\n",
       "9               10  312.534485  313.684465\n",
       "10              11  278.788955  282.614553\n",
       "11              12  275.140790  275.389200\n",
       "12              13  285.296363  285.706301\n",
       "13              14  296.642986  297.641452\n",
       "14              15  291.679317  291.744906\n",
       "15              16  307.710368  308.179962\n",
       "16              17  295.480125  295.685660\n",
       "17              18  304.231546  304.232399\n",
       "18              19  301.674107  301.698297\n",
       "19              20  310.073985  310.269745\n",
       "20              21  298.200634  298.376532\n",
       "21              22  301.405874  302.214028\n",
       "22              23  310.835814  311.776880\n",
       "23              24  299.078176  299.197279\n",
       "24              25  303.262455  303.281267\n",
       "25              26  293.626246  293.637037\n",
       "26              27  283.139430  283.176468\n",
       "27              28  294.039806  294.399195\n",
       "28              29  306.341002  306.439626\n",
       "29              30  300.370868  300.380520\n",
       "..             ...         ...         ...\n",
       "70              71  298.815517  298.909102\n",
       "71              72  273.625813  274.966432\n",
       "72              73  281.797018  281.887445\n",
       "73              74  296.418414  297.040254\n",
       "74              75  297.909356  299.201612\n",
       "75              76  308.563977  309.217929\n",
       "76              77  293.067053  293.067544\n",
       "77              78  291.784412  291.849818\n",
       "78              79  305.015824  305.039745\n",
       "79              80  308.687920  310.969068\n",
       "80              81  298.875029  299.477203\n",
       "81              82  290.362409  290.387141\n",
       "82              83  300.791480  301.694924\n",
       "83              84  302.223796  302.463925\n",
       "84              85  290.676259  292.300468\n",
       "85              86  323.866834  327.175451\n",
       "86              87  296.657409  297.171712\n",
       "87              88  278.065207  278.165684\n",
       "88              89  309.983063  310.514742\n",
       "89              90  299.595527  299.635017\n",
       "90              91  287.908791  288.521381\n",
       "91              92  280.006123  280.532254\n",
       "92              93  293.531673  293.972448\n",
       "93              94  280.971462  284.594697\n",
       "94              95  304.083631  304.187918\n",
       "95              96  316.441400  317.682215\n",
       "96              97  297.203437  297.526123\n",
       "97              98  296.513692  296.630731\n",
       "98              99  308.966011  309.817294\n",
       "99             100  289.733720  290.330562\n",
       "\n",
       "[100 rows x 3 columns]"
      ]
     },
     "execution_count": 40,
     "metadata": {},
     "output_type": "execute_result"
    }
   ],
   "source": [
    "dfexport = pd.DataFrame({'$a':np.arange(1,101,1), '$b':np.arange(1,101,1), '$c':np.arange(1,101,1)})\n",
    "dfexport.columns = ['Experiment no.', 'b = 1', 'b not 1']\n",
    "\n",
    "for i in range(100):\n",
    "    dfexport['b = 1'][i] = '%3.6f' %dvalsllh[i]\n",
    "    dfexport['b not 1'][i] = '%3.6f' %dvalsllh2[i]\n",
    "dfexport"
   ]
  },
  {
   "cell_type": "code",
   "execution_count": 41,
   "metadata": {
    "collapsed": false
   },
   "outputs": [
    {
     "name": "stdout",
     "output_type": "stream",
     "text": [
      "\\begin{tabular}{lrll}\n",
      "\\toprule\n",
      "{} &  Experiment no. &       b = 1 &     b not 1 \\\\\n",
      "\\midrule\n",
      "0  &               1 &  290.656782 &  290.674865 \\\\\n",
      "1  &               2 &  307.153147 &  307.160499 \\\\\n",
      "2  &               3 &  270.180435 &  271.004193 \\\\\n",
      "3  &               4 &  303.710117 &  303.945402 \\\\\n",
      "4  &               5 &  302.280289 &  304.108337 \\\\\n",
      "5  &               6 &  294.985364 &  295.418586 \\\\\n",
      "6  &               7 &  311.283873 &  313.555485 \\\\\n",
      "7  &               8 &  292.915545 &  293.083612 \\\\\n",
      "8  &               9 &  296.297122 &  296.432030 \\\\\n",
      "9  &              10 &  312.534485 &  313.684465 \\\\\n",
      "10 &              11 &  278.788955 &  282.614553 \\\\\n",
      "11 &              12 &  275.140790 &  275.389200 \\\\\n",
      "12 &              13 &  285.296363 &  285.706301 \\\\\n",
      "13 &              14 &  296.642986 &  297.641452 \\\\\n",
      "14 &              15 &  291.679317 &  291.744906 \\\\\n",
      "15 &              16 &  307.710368 &  308.179962 \\\\\n",
      "16 &              17 &  295.480125 &  295.685660 \\\\\n",
      "17 &              18 &  304.231546 &  304.232399 \\\\\n",
      "18 &              19 &  301.674107 &  301.698297 \\\\\n",
      "19 &              20 &  310.073985 &  310.269745 \\\\\n",
      "20 &              21 &  298.200634 &  298.376532 \\\\\n",
      "21 &              22 &  301.405874 &  302.214028 \\\\\n",
      "22 &              23 &  310.835814 &  311.776880 \\\\\n",
      "23 &              24 &  299.078176 &  299.197279 \\\\\n",
      "24 &              25 &  303.262455 &  303.281267 \\\\\n",
      "25 &              26 &  293.626246 &  293.637037 \\\\\n",
      "26 &              27 &  283.139430 &  283.176468 \\\\\n",
      "27 &              28 &  294.039806 &  294.399195 \\\\\n",
      "28 &              29 &  306.341002 &  306.439626 \\\\\n",
      "29 &              30 &  300.370868 &  300.380520 \\\\\n",
      "30 &              31 &  271.379249 &  272.242449 \\\\\n",
      "31 &              32 &  291.143456 &  291.145006 \\\\\n",
      "32 &              33 &  296.383595 &  296.908022 \\\\\n",
      "33 &              34 &  280.360332 &  281.646505 \\\\\n",
      "34 &              35 &  276.223514 &  278.957135 \\\\\n",
      "35 &              36 &  299.628690 &  299.906079 \\\\\n",
      "36 &              37 &  293.641734 &  293.689190 \\\\\n",
      "37 &              38 &  318.839131 &  320.638126 \\\\\n",
      "38 &              39 &  304.672385 &  305.187100 \\\\\n",
      "39 &              40 &  292.422836 &  293.046404 \\\\\n",
      "40 &              41 &  273.379884 &  274.002672 \\\\\n",
      "41 &              42 &  311.399507 &  312.338225 \\\\\n",
      "42 &              43 &  277.162751 &  277.607959 \\\\\n",
      "43 &              44 &  304.437528 &  304.441247 \\\\\n",
      "44 &              45 &  279.601997 &  279.827509 \\\\\n",
      "45 &              46 &  282.520046 &  282.664483 \\\\\n",
      "46 &              47 &  307.524901 &  307.762077 \\\\\n",
      "47 &              48 &  293.592729 &  293.593954 \\\\\n",
      "48 &              49 &  297.981086 &  299.144018 \\\\\n",
      "49 &              50 &  276.369114 &  276.510081 \\\\\n",
      "50 &              51 &  302.561373 &  303.346987 \\\\\n",
      "51 &              52 &  287.368296 &  287.476093 \\\\\n",
      "52 &              53 &  273.625712 &  275.233570 \\\\\n",
      "53 &              54 &  304.294838 &  304.296895 \\\\\n",
      "54 &              55 &  293.410047 &  295.180377 \\\\\n",
      "55 &              56 &  304.968798 &  305.584675 \\\\\n",
      "56 &              57 &  293.450121 &  293.476534 \\\\\n",
      "57 &              58 &  274.698582 &  274.736411 \\\\\n",
      "58 &              59 &  305.736387 &  306.160579 \\\\\n",
      "59 &              60 &  300.798726 &  300.975764 \\\\\n",
      "60 &              61 &  269.858076 &  270.008128 \\\\\n",
      "61 &              62 &  287.332631 &  287.376748 \\\\\n",
      "62 &              63 &  292.860000 &  292.905420 \\\\\n",
      "63 &              64 &  291.750549 &  291.983901 \\\\\n",
      "64 &              65 &  286.970858 &  287.322593 \\\\\n",
      "65 &              66 &  304.556548 &  305.182645 \\\\\n",
      "66 &              67 &  304.008913 &  304.625619 \\\\\n",
      "67 &              68 &  304.557444 &  304.761851 \\\\\n",
      "68 &              69 &  309.537665 &  309.603926 \\\\\n",
      "69 &              70 &  299.773264 &  299.815621 \\\\\n",
      "70 &              71 &  298.815517 &  298.909102 \\\\\n",
      "71 &              72 &  273.625813 &  274.966432 \\\\\n",
      "72 &              73 &  281.797018 &  281.887445 \\\\\n",
      "73 &              74 &  296.418414 &  297.040254 \\\\\n",
      "74 &              75 &  297.909356 &  299.201612 \\\\\n",
      "75 &              76 &  308.563977 &  309.217929 \\\\\n",
      "76 &              77 &  293.067053 &  293.067544 \\\\\n",
      "77 &              78 &  291.784412 &  291.849818 \\\\\n",
      "78 &              79 &  305.015824 &  305.039745 \\\\\n",
      "79 &              80 &  308.687920 &  310.969068 \\\\\n",
      "80 &              81 &  298.875029 &  299.477203 \\\\\n",
      "81 &              82 &  290.362409 &  290.387141 \\\\\n",
      "82 &              83 &  300.791480 &  301.694924 \\\\\n",
      "83 &              84 &  302.223796 &  302.463925 \\\\\n",
      "84 &              85 &  290.676259 &  292.300468 \\\\\n",
      "85 &              86 &  323.866834 &  327.175451 \\\\\n",
      "86 &              87 &  296.657409 &  297.171712 \\\\\n",
      "87 &              88 &  278.065207 &  278.165684 \\\\\n",
      "88 &              89 &  309.983063 &  310.514742 \\\\\n",
      "89 &              90 &  299.595527 &  299.635017 \\\\\n",
      "90 &              91 &  287.908791 &  288.521381 \\\\\n",
      "91 &              92 &  280.006123 &  280.532254 \\\\\n",
      "92 &              93 &  293.531673 &  293.972448 \\\\\n",
      "93 &              94 &  280.971462 &  284.594697 \\\\\n",
      "94 &              95 &  304.083631 &  304.187918 \\\\\n",
      "95 &              96 &  316.441400 &  317.682215 \\\\\n",
      "96 &              97 &  297.203437 &  297.526123 \\\\\n",
      "97 &              98 &  296.513692 &  296.630731 \\\\\n",
      "98 &              99 &  308.966011 &  309.817294 \\\\\n",
      "99 &             100 &  289.733720 &  290.330562 \\\\\n",
      "\\bottomrule\n",
      "\\end{tabular}\n",
      "\n"
     ]
    }
   ],
   "source": [
    "print(dfexport.to_latex())"
   ]
  },
  {
   "cell_type": "markdown",
   "metadata": {
    "collapsed": true
   },
   "source": [
    "Setting $b=1$ and varying $\\sigma_t$:"
   ]
  },
  {
   "cell_type": "code",
   "execution_count": 26,
   "metadata": {
    "collapsed": false
   },
   "outputs": [
    {
     "name": "stderr",
     "output_type": "stream",
     "text": [
      "C:\\Users\\Bo\\Anaconda3\\lib\\site-packages\\ipykernel\\__main__.py:6: RuntimeWarning: divide by zero encountered in log\n",
      "C:\\Users\\Bo\\Anaconda3\\lib\\site-packages\\ipykernel\\__main__.py:6: RuntimeWarning: invalid value encountered in log\n",
      "C:\\Users\\Bo\\Anaconda3\\lib\\site-packages\\ipykernel\\__main__.py:6: RuntimeWarning: divide by zero encountered in double_scalars\n"
     ]
    },
    {
     "data": {
      "text/plain": [
       "defaultdict(None,\n",
       "            {0: array([ 0.5860871]),\n",
       "             1: array([ 0.63433504]),\n",
       "             2: array([ 0.51792611]),\n",
       "             3: array([ 0.63513171]),\n",
       "             4: array([ 0.56412619]),\n",
       "             5: array([ 0.65688315]),\n",
       "             6: array([ 0.60064918]),\n",
       "             7: array([ 0.6547332]),\n",
       "             8: array([ 0.64489884]),\n",
       "             9: array([ 0.64713805]),\n",
       "             10: array([ 0.66624871]),\n",
       "             11: array([ 0.49557532]),\n",
       "             12: array([ 0.48475315]),\n",
       "             13: array([ 0.63215482]),\n",
       "             14: array([ 0.60369811]),\n",
       "             15: array([ 0.66306362]),\n",
       "             16: array([ 0.62656676]),\n",
       "             17: array([ 0.66759702]),\n",
       "             18: array([ 0.66771299]),\n",
       "             19: array([ 0.68680388]),\n",
       "             20: array([ 0.63888327]),\n",
       "             21: array([ 0.58488693]),\n",
       "             22: array([ 0.65286194]),\n",
       "             23: array([ 0.60610548]),\n",
       "             24: array([ 0.62940134]),\n",
       "             25: array([ 0.62752439]),\n",
       "             26: array([ 0.46790359]),\n",
       "             27: array([ 0.55817287]),\n",
       "             28: array([ 0.74142013]),\n",
       "             29: array([ 0.58041531]),\n",
       "             30: array([ 0.53100614]),\n",
       "             31: array([ 0.55974359]),\n",
       "             32: array([ 0.65439834]),\n",
       "             33: array([ 0.60834195]),\n",
       "             34: array([ 0.58070993]),\n",
       "             35: array([ 0.63718461]),\n",
       "             36: array([ 0.61296261]),\n",
       "             37: array([ 0.6561848]),\n",
       "             38: array([ 0.62352411]),\n",
       "             39: array([ 0.59051566]),\n",
       "             40: array([ 0.53681599]),\n",
       "             41: array([ 0.63109962]),\n",
       "             42: array([ 0.51651766]),\n",
       "             43: array([ 0.7056537]),\n",
       "             44: array([ 0.5435709]),\n",
       "             45: array([ 0.50671375]),\n",
       "             46: array([ 0.62134801]),\n",
       "             47: array([ 0.59761552]),\n",
       "             48: array([ 0.52938427]),\n",
       "             49: array([ 0.5464491]),\n",
       "             50: array([ 0.60272859]),\n",
       "             51: array([ 0.5762405]),\n",
       "             52: array([ 0.55034827]),\n",
       "             53: array([ 0.69148458]),\n",
       "             54: array([ 0.67296781]),\n",
       "             55: array([ 0.68752652]),\n",
       "             56: array([ 0.64670124]),\n",
       "             57: array([ 0.48844524]),\n",
       "             58: array([ 0.70517103]),\n",
       "             59: array([ 0.59422023]),\n",
       "             60: array([ 0.44893577]),\n",
       "             61: array([ 0.53317247]),\n",
       "             62: array([ 0.62619112]),\n",
       "             63: array([ 0.55633176]),\n",
       "             64: array([ 0.62749816]),\n",
       "             65: array([ 0.7395146]),\n",
       "             66: array([ 0.64599592]),\n",
       "             67: array([ 0.64905533]),\n",
       "             68: array([ 0.62404648]),\n",
       "             69: array([ 0.64001463]),\n",
       "             70: array([ 0.64269672]),\n",
       "             71: array([ 0.57908163]),\n",
       "             72: array([ 0.58010308]),\n",
       "             73: array([ 0.64309449]),\n",
       "             74: array([ 0.69165635]),\n",
       "             75: array([ 0.63066965]),\n",
       "             76: array([ 0.62398289]),\n",
       "             77: array([ 0.54841031]),\n",
       "             78: array([ 0.63000837]),\n",
       "             79: array([ 0.61390203]),\n",
       "             80: array([ 0.70136288]),\n",
       "             81: array([ 0.55768803]),\n",
       "             82: array([ 0.72961563]),\n",
       "             83: array([ 0.70243513]),\n",
       "             84: array([ 0.68304052]),\n",
       "             85: array([ 0.66916634]),\n",
       "             86: array([ 0.66200524]),\n",
       "             87: array([ 0.55379542]),\n",
       "             88: array([ 0.63851538]),\n",
       "             89: array([ 0.57398961]),\n",
       "             90: array([ 0.52924752]),\n",
       "             91: array([ 0.56213372]),\n",
       "             92: array([ 0.64479072]),\n",
       "             93: array([ 0.64297819]),\n",
       "             94: array([ 0.57948263]),\n",
       "             95: array([ 0.65763494]),\n",
       "             96: array([ 0.67569182]),\n",
       "             97: array([ 0.61735336]),\n",
       "             98: array([ 0.59526635]),\n",
       "             99: array([ 0.62729698])})"
      ]
     },
     "execution_count": 26,
     "metadata": {},
     "output_type": "execute_result"
    }
   ],
   "source": [
    "b = 1\n",
    "def LLH2(x):\n",
    "    sigma = x[0]\n",
    "    dat = list()\n",
    "    for t in d[k]:\n",
    "        val = -np.log( (1/2)*np.exp(-t/b)*(np.exp(t/b)*np.exp(-(1/2)*(2*b*t-sigma**2)/b**2)+np.exp((1/2)*sigma**2/b**2)*erf((1/2)*np.sqrt(2)*(b*t-sigma**2)/(sigma*b)))/b )\n",
    "        dat.append(val)\n",
    "    return sum(dat);\n",
    "\n",
    "from scipy.optimize import minimize\n",
    "\n",
    "x0 = np.array([1])\n",
    "cons = [{'type':'ineq', 'fun': lambda x: x}]\n",
    "\n",
    "dvals2 = defaultdict()\n",
    "\n",
    "for k in range(100):\n",
    "    res = minimize(LLH2,x0,constraints=cons)\n",
    "    dvals2[k] = res.x\n",
    "dvals2"
   ]
  },
  {
   "cell_type": "code",
   "execution_count": 27,
   "metadata": {
    "collapsed": false
   },
   "outputs": [],
   "source": [
    "dvalsllh2 = defaultdict()\n",
    "for i in range(len(dvals2)):\n",
    "    sigma = dvals2[i][0]\n",
    "    dat = list()\n",
    "    for t in d[i]:\n",
    "        val = -np.log( (1/2)*np.exp(-t/b)*(np.exp(t/b)*np.exp(-(1/2)*(2*b*t-sigma**2)/b**2)+np.exp((1/2)*sigma**2/b**2)*erf((1/2)*np.sqrt(2)*(b*t-sigma**2)/(sigma*b)))/b )\n",
    "        dat.append(val)\n",
    "    res = sum(dat);\n",
    "    dvalsllh2[i] = res"
   ]
  },
  {
   "cell_type": "code",
   "execution_count": 28,
   "metadata": {
    "collapsed": false
   },
   "outputs": [
    {
     "data": {
      "text/plain": [
       "defaultdict(None,\n",
       "            {0: 290.67486494055686,\n",
       "             1: 307.16049903559968,\n",
       "             2: 271.00419337614795,\n",
       "             3: 303.94540216491305,\n",
       "             4: 304.1083372853742,\n",
       "             5: 295.4185862052031,\n",
       "             6: 313.55548485946912,\n",
       "             7: 293.08361156339657,\n",
       "             8: 296.43202955336415,\n",
       "             9: 313.68446540391801,\n",
       "             10: 282.61455348033934,\n",
       "             11: 275.3891995377881,\n",
       "             12: 285.70630128407129,\n",
       "             13: 297.64145242866493,\n",
       "             14: 291.74490556022096,\n",
       "             15: 308.17996162501078,\n",
       "             16: 295.68566029624827,\n",
       "             17: 304.23239905698318,\n",
       "             18: 301.6982972715299,\n",
       "             19: 310.26974467600581,\n",
       "             20: 298.37653177133535,\n",
       "             21: 302.2140284982346,\n",
       "             22: 311.77687958409723,\n",
       "             23: 299.19727855985172,\n",
       "             24: 303.28126726195097,\n",
       "             25: 293.63703690339162,\n",
       "             26: 283.17646810721095,\n",
       "             27: 294.39919454521998,\n",
       "             28: 306.43962570235601,\n",
       "             29: 300.38051959480589,\n",
       "             30: 272.24244925144131,\n",
       "             31: 291.14500628906779,\n",
       "             32: 296.90802244517886,\n",
       "             33: 281.64650518578276,\n",
       "             34: 278.95713468595346,\n",
       "             35: 299.90607922472691,\n",
       "             36: 293.68918963704584,\n",
       "             37: 320.63812553686944,\n",
       "             38: 305.18709979407481,\n",
       "             39: 293.04640435746194,\n",
       "             40: 274.00267244560303,\n",
       "             41: 312.33822466779645,\n",
       "             42: 277.60795944882341,\n",
       "             43: 304.4412469259542,\n",
       "             44: 279.82750947622657,\n",
       "             45: 282.6644830595593,\n",
       "             46: 307.76207728264183,\n",
       "             47: 293.59395436820967,\n",
       "             48: 299.14401829300823,\n",
       "             49: 276.51008144245776,\n",
       "             50: 303.34698664368744,\n",
       "             51: 287.47609286807591,\n",
       "             52: 275.2335703711052,\n",
       "             53: 304.29689491727021,\n",
       "             54: 295.18037667361745,\n",
       "             55: 305.58467504676156,\n",
       "             56: 293.4765344582591,\n",
       "             57: 274.73641092179071,\n",
       "             58: 306.1605791345749,\n",
       "             59: 300.97576412719752,\n",
       "             60: 270.00812761750029,\n",
       "             61: 287.37674846633598,\n",
       "             62: 292.90542019147,\n",
       "             63: 291.98390050753972,\n",
       "             64: 287.32259303603013,\n",
       "             65: 305.18264539940304,\n",
       "             66: 304.62561937047445,\n",
       "             67: 304.76185083603076,\n",
       "             68: 309.60392637620953,\n",
       "             69: 299.81562061166181,\n",
       "             70: 298.90910181700906,\n",
       "             71: 274.96643244651818,\n",
       "             72: 281.88744519992679,\n",
       "             73: 297.04025402028117,\n",
       "             74: 299.20161188360959,\n",
       "             75: 309.21792945369833,\n",
       "             76: 293.06754359173624,\n",
       "             77: 291.84981804993697,\n",
       "             78: 305.03974477206583,\n",
       "             79: 310.96906753218792,\n",
       "             80: 299.47720326092531,\n",
       "             81: 290.38714147767325,\n",
       "             82: 301.69492447045343,\n",
       "             83: 302.46392460141402,\n",
       "             84: 292.30046765086013,\n",
       "             85: 327.17545065185857,\n",
       "             86: 297.17171212677613,\n",
       "             87: 278.16568449798382,\n",
       "             88: 310.51474155595173,\n",
       "             89: 299.63501672217507,\n",
       "             90: 288.52138111503058,\n",
       "             91: 280.5322544923493,\n",
       "             92: 293.97244783687267,\n",
       "             93: 284.59469735750133,\n",
       "             94: 304.18791794315041,\n",
       "             95: 317.68221517742489,\n",
       "             96: 297.52612344731801,\n",
       "             97: 296.63073108960913,\n",
       "             98: 309.81729384586282,\n",
       "             99: 290.33056212626258})"
      ]
     },
     "execution_count": 28,
     "metadata": {},
     "output_type": "execute_result"
    }
   ],
   "source": [
    "dvalsllh2"
   ]
  },
  {
   "cell_type": "code",
   "execution_count": null,
   "metadata": {
    "collapsed": true
   },
   "outputs": [],
   "source": [
    "dfexport = pd.DataFrame({'$a':np.arange(1,101,1), '$b':np.arange(1,101,1), '$c':np.arange(1,101,1)})\n",
    "dfexport.columns = ['Experiment no.', 'b = 1', 'b not 1']\n",
    "\n",
    "for i in range(100):\n",
    "    dfexport['b = 1'][i] = '%3.6f' %dvalsllh[i]\n",
    "    dfexport['b not 1'][i] = '%3.6f' %dvalsllh2[i]\n",
    "dfexport"
   ]
  },
  {
   "cell_type": "markdown",
   "metadata": {},
   "source": [
    "Histogram of $-2\\ln(\\lambda)$:"
   ]
  },
  {
   "cell_type": "code",
   "execution_count": 43,
   "metadata": {
    "collapsed": false
   },
   "outputs": [
    {
     "data": {
      "image/png": "[encoded data removed]",
      "text/plain": [
       "<matplotlib.figure.Figure at 0x173361438d0>"
      ]
     },
     "metadata": {},
     "output_type": "display_data"
    }
   ],
   "source": [
    "dvalsfin = []\n",
    "for i in range(len(dvalsllh)):\n",
    "    dvalsfin.append(2*(dvalsllh2[i]-dvalsllh[i]))\n",
    "\n",
    "import matplotlib.pyplot as plt\n",
    "plt.hist(dvalsfin, bins=100,normed=True)\n",
    "\n",
    "fig1 = plt.gcf()\n",
    "\n",
    "plt.show()\n",
    "\n",
    "fig1.savefig('2lnlambda.eps', dpi=1200)"
   ]
  },
  {
   "cell_type": "markdown",
   "metadata": {},
   "source": [
    "Determine if they are chi-squared distributed: We expect 1 degree of freedom. Minimization routine returns 1 degree of freedom:"
   ]
  },
  {
   "cell_type": "code",
   "execution_count": 44,
   "metadata": {
    "collapsed": false
   },
   "outputs": [
    {
     "data": {
      "text/plain": [
       "array([ 1.16960272])"
      ]
     },
     "execution_count": 44,
     "metadata": {},
     "output_type": "execute_result"
    }
   ],
   "source": [
    "from scipy.stats import chi2\n",
    "\n",
    "def LLH1(x):\n",
    "    b = x[0]\n",
    "    dat = list()\n",
    "    for x in dvalsfin:\n",
    "        val = -np.log( chi2.pdf(x,b) )\n",
    "        dat.append(val)\n",
    "    return sum(dat);\n",
    "\n",
    "from scipy.optimize import minimize\n",
    "\n",
    "x0 = np.array([1])\n",
    "\n",
    "res = minimize(LLH1,x0)\n",
    "res.x"
   ]
  },
  {
   "cell_type": "code",
   "execution_count": 72,
   "metadata": {
    "collapsed": false
   },
   "outputs": [
    {
     "data": {
      "image/png": "[encoded data removed]",
      "text/plain": [
       "<matplotlib.figure.Figure at 0x17337e6a438>"
      ]
     },
     "metadata": {},
     "output_type": "display_data"
    }
   ],
   "source": [
    "xplotvals = np.arange(0, 8, 0.01)\n",
    "y0 = chi2.pdf(xplotvals,1)/7\n",
    "#y0 = np.sin((5.96185442*xplotvals+1))**2\n",
    "plt.plot(xplotvals,y0)\n",
    "weights = np.ones_like(dvalsfin)/float(len(dvalsfin))\n",
    "x, y, _ = plt.hist(dvalsfin, weights=weights,bins=100)\n",
    "plt.ylim(0,0.2)\n",
    "\n",
    "fig1 = plt.gcf()\n",
    "\n",
    "plt.show()\n",
    "\n",
    "fig1.savefig('chisquared.eps', dpi=1200)"
   ]
  },
  {
   "cell_type": "markdown",
   "metadata": {},
   "source": [
    "We calculate the chi-square and the resulting p-value:"
   ]
  },
  {
   "cell_type": "code",
   "execution_count": 82,
   "metadata": {
    "collapsed": false
   },
   "outputs": [
    {
     "data": {
      "image/png": "[encoded data removed]",
      "text/plain": [
       "<matplotlib.figure.Figure at 0x25c24170668>"
      ]
     },
     "metadata": {},
     "output_type": "display_data"
    }
   ],
   "source": [
    "weights = np.ones_like(dvalsfin)/float(len(dvalsfin))\n",
    "plt.hist(dvalsfin, weights=weights,bins=100)\n",
    "plt.show()"
   ]
  },
  {
   "cell_type": "code",
   "execution_count": 73,
   "metadata": {
    "collapsed": false
   },
   "outputs": [
    {
     "name": "stdout",
     "output_type": "stream",
     "text": [
      "1.4145825977\n"
     ]
    },
    {
     "data": {
      "text/plain": [
       "0.23429714311779307"
      ]
     },
     "execution_count": 73,
     "metadata": {},
     "output_type": "execute_result"
    }
   ],
   "source": [
    "y, x, _ = plt.hist(dvalsfin,weights=weights,bins=100)\n",
    "xvals = list()\n",
    "for i in range((len(x)-1)):\n",
    "    val = (x[i]+x[i+1])/2\n",
    "    xvals.append(val)\n",
    "yvals = list()\n",
    "for i in xvals:\n",
    "    val = chi2.pdf(i,1)/7\n",
    "    yvals.append(val)\n",
    "chicalc = list()\n",
    "for i in range(len(y)):\n",
    "    val = ((y[i]-yvals[i])**2)/yvals[i]\n",
    "    chicalc.append(val)\n",
    "print(sum(chicalc))\n",
    "\n",
    "import scipy.integrate as integrate\n",
    "from scipy.stats import chi2\n",
    "\n",
    "res = integrate.quad(lambda x: chi2.pdf(x,1), sum(chicalc), np.inf)\n",
    "res[0]"
   ]
  },
  {
   "cell_type": "code",
   "execution_count": 63,
   "metadata": {
    "collapsed": false
   },
   "outputs": [
    {
     "data": {
      "text/plain": [
       "0.20279206557961427"
      ]
     },
     "execution_count": 63,
     "metadata": {},
     "output_type": "execute_result"
    }
   ],
   "source": [
    "import scipy.integrate as integrate\n",
    "from scipy.stats import chi2\n",
    "\n",
    "res = integrate.quad(lambda x: chi2.pdf(x,1), 1.62215140536, np.inf)\n",
    "res[0]"
   ]
  },
  {
   "cell_type": "markdown",
   "metadata": {},
   "source": [
    "Yes, it is chi-squared distributed."
   ]
  },
  {
   "cell_type": "markdown",
   "metadata": {},
   "source": [
    "Number of pseudo-experiments with $-2\\ln (\\lambda) > 2.706$:"
   ]
  },
  {
   "cell_type": "code",
   "execution_count": 38,
   "metadata": {
    "collapsed": false
   },
   "outputs": [
    {
     "data": {
      "text/plain": [
       "11"
      ]
     },
     "execution_count": 38,
     "metadata": {},
     "output_type": "execute_result"
    }
   ],
   "source": [
    "sum(i > 2.706 for i in dvalsfin)"
   ]
  },
  {
   "cell_type": "markdown",
   "metadata": {},
   "source": [
    "Expected number of values above 2.706:"
   ]
  },
  {
   "cell_type": "code",
   "execution_count": 99,
   "metadata": {
    "collapsed": false
   },
   "outputs": [
    {
     "data": {
      "text/plain": [
       "9.99713781252492"
      ]
     },
     "execution_count": 99,
     "metadata": {},
     "output_type": "execute_result"
    }
   ],
   "source": [
    "res = integrate.quad(lambda x: chi2.pdf(x,1), 2.706, np.inf)\n",
    "res[0]*100"
   ]
  },
  {
   "cell_type": "markdown",
   "metadata": {
    "collapsed": true
   },
   "source": [
    "## Problem 2c)"
   ]
  },
  {
   "cell_type": "markdown",
   "metadata": {
    "collapsed": true
   },
   "source": [
    "We must calculate the log-likelihood for all of the 20000 entries with $b=1$, $0 < \\sigma < \\infty$ and subsequently for $0 < b < \\infty$, $0 < \\sigma < \\infty$."
   ]
  },
  {
   "cell_type": "code",
   "execution_count": 108,
   "metadata": {
    "collapsed": false
   },
   "outputs": [
    {
     "name": "stderr",
     "output_type": "stream",
     "text": [
      "C:\\Users\\Bo\\Anaconda3\\lib\\site-packages\\ipykernel\\__main__.py:6: RuntimeWarning: invalid value encountered in log\n",
      "C:\\Users\\Bo\\Anaconda3\\lib\\site-packages\\ipykernel\\__main__.py:6: RuntimeWarning: divide by zero encountered in log\n",
      "C:\\Users\\Bo\\Anaconda3\\lib\\site-packages\\ipykernel\\__main__.py:6: RuntimeWarning: overflow encountered in exp\n",
      "C:\\Users\\Bo\\Anaconda3\\lib\\site-packages\\ipykernel\\__main__.py:6: RuntimeWarning: invalid value encountered in double_scalars\n"
     ]
    },
    {
     "data": {
      "text/plain": [
       "array([ 0.99330959,  0.61861697])"
      ]
     },
     "execution_count": 108,
     "metadata": {},
     "output_type": "execute_result"
    }
   ],
   "source": [
    "def LLH1(x):\n",
    "    b = x[0]\n",
    "    sigma = x[1]\n",
    "    dat = list()\n",
    "    for t in df['Values']:\n",
    "        val = -np.log( (1/2)*np.exp(-t/b)*(np.exp(t/b)*np.exp(-(1/2)*(2*b*t-sigma**2)/b**2)+np.exp((1/2)*sigma**2/b**2)*erf((1/2)*np.sqrt(2)*(b*t-sigma**2)/(sigma*b)))/b )\n",
    "        dat.append(val)\n",
    "    return sum(dat);\n",
    "\n",
    "from scipy.optimize import minimize\n",
    "\n",
    "x0 = np.array([1,0.5])\n",
    "cons = [{'type':'ineq', 'fun': lambda x: x}, {'type':'ineq', 'fun': lambda x: x}]\n",
    "\n",
    "res = minimize(LLH1,x0,constraints=cons)\n",
    "res.x"
   ]
  },
  {
   "cell_type": "markdown",
   "metadata": {
    "collapsed": true
   },
   "source": [
    "The corresponding likelihood value:"
   ]
  },
  {
   "cell_type": "code",
   "execution_count": 111,
   "metadata": {
    "collapsed": false
   },
   "outputs": [
    {
     "data": {
      "text/plain": [
       "29652.740558323614"
      ]
     },
     "execution_count": 111,
     "metadata": {},
     "output_type": "execute_result"
    }
   ],
   "source": [
    "b = 0.99330959\n",
    "sigma = 0.61861697\n",
    "dat = list()\n",
    "for t in df['Values']:\n",
    "    val = -np.log( (1/2)*np.exp(-t/b)*(np.exp(t/b)*np.exp(-(1/2)*(2*b*t-sigma**2)/b**2)+np.exp((1/2)*sigma**2/b**2)*erf((1/2)*np.sqrt(2)*(b*t-sigma**2)/(sigma*b)))/b )\n",
    "    dat.append(val)\n",
    "sum(dat)"
   ]
  },
  {
   "cell_type": "code",
   "execution_count": 113,
   "metadata": {
    "collapsed": false
   },
   "outputs": [
    {
     "name": "stderr",
     "output_type": "stream",
     "text": [
      "C:\\Users\\Bo\\Anaconda3\\lib\\site-packages\\ipykernel\\__main__.py:6: RuntimeWarning: overflow encountered in exp\n",
      "C:\\Users\\Bo\\Anaconda3\\lib\\site-packages\\ipykernel\\__main__.py:6: RuntimeWarning: invalid value encountered in double_scalars\n"
     ]
    },
    {
     "data": {
      "text/plain": [
       "array([ 0.61776509])"
      ]
     },
     "execution_count": 113,
     "metadata": {},
     "output_type": "execute_result"
    }
   ],
   "source": [
    "b=1\n",
    "def LLH1(x):\n",
    "    sigma = x[0]\n",
    "    dat = list()\n",
    "    for t in df['Values']:\n",
    "        val = -np.log( (1/2)*np.exp(-t/b)*(np.exp(t/b)*np.exp(-(1/2)*(2*b*t-sigma**2)/b**2)+np.exp((1/2)*sigma**2/b**2)*erf((1/2)*np.sqrt(2)*(b*t-sigma**2)/(sigma*b)))/b )\n",
    "        dat.append(val)\n",
    "    return sum(dat);\n",
    "\n",
    "from scipy.optimize import minimize\n",
    "\n",
    "x0 = np.array([0.5])\n",
    "cons = [{'type':'ineq', 'fun': lambda x: x}, {'type':'ineq', 'fun': lambda x: x}]\n",
    "\n",
    "res = minimize(LLH1,x0,constraints=cons)\n",
    "res.x"
   ]
  },
  {
   "cell_type": "code",
   "execution_count": 114,
   "metadata": {
    "collapsed": false
   },
   "outputs": [
    {
     "data": {
      "text/plain": [
       "29653.080104114022"
      ]
     },
     "execution_count": 114,
     "metadata": {},
     "output_type": "execute_result"
    }
   ],
   "source": [
    "b = 1\n",
    "sigma = 0.61776509\n",
    "dat = list()\n",
    "for t in df['Values']:\n",
    "    val = -np.log( (1/2)*np.exp(-t/b)*(np.exp(t/b)*np.exp(-(1/2)*(2*b*t-sigma**2)/b**2)+np.exp((1/2)*sigma**2/b**2)*erf((1/2)*np.sqrt(2)*(b*t-sigma**2)/(sigma*b)))/b )\n",
    "    dat.append(val)\n",
    "sum(dat)"
   ]
  },
  {
   "cell_type": "markdown",
   "metadata": {
    "collapsed": true
   },
   "source": [
    "$-2\\ln(\\lambda)$:"
   ]
  },
  {
   "cell_type": "code",
   "execution_count": 120,
   "metadata": {
    "collapsed": false
   },
   "outputs": [
    {
     "data": {
      "text/plain": [
       "0.6790915808160207"
      ]
     },
     "execution_count": 120,
     "metadata": {},
     "output_type": "execute_result"
    }
   ],
   "source": [
    "lnratio = 29653.080104114022-29652.740558323614\n",
    "2*lnratio"
   ]
  },
  {
   "cell_type": "code",
   "execution_count": 121,
   "metadata": {
    "collapsed": false
   },
   "outputs": [
    {
     "data": {
      "text/plain": [
       "0.4095867241206976"
      ]
     },
     "execution_count": 121,
     "metadata": {},
     "output_type": "execute_result"
    }
   ],
   "source": [
    "import scipy.integrate as integrate\n",
    "from scipy.stats import chi2\n",
    "\n",
    "res = integrate.quad(lambda x: chi2.pdf(x,1), 0.68, np.inf)\n",
    "res[0]"
   ]
  },
  {
   "cell_type": "markdown",
   "metadata": {},
   "source": [
    "Knowing that the distribution is chi-squared, the p-value is not strong enough to reject the null hypothesis at $3\\sigma$. This is also clear from the fact that the estimated value of $b$ is very close to $1$ from the maximum likelihood estimation."
   ]
  },
  {
   "cell_type": "code",
   "execution_count": null,
   "metadata": {
    "collapsed": true
   },
   "outputs": [],
   "source": []
  },
  {
   "cell_type": "code",
   "execution_count": null,
   "metadata": {
    "collapsed": true
   },
   "outputs": [],
   "source": []
  },
  {
   "cell_type": "code",
   "execution_count": null,
   "metadata": {
    "collapsed": true
   },
   "outputs": [],
   "source": []
  }
 ],
 "metadata": {
  "kernelspec": {
   "display_name": "Python 3",
   "language": "python",
   "name": "python3"
  },
  "language_info": {
   "codemirror_mode": {
    "name": "ipython",
    "version": 3
   },
   "file_extension": ".py",
   "mimetype": "text/x-python",
   "name": "python",
   "nbconvert_exporter": "python",
   "pygments_lexer": "ipython3",
   "version": "3.6.0"
  }
 },
 "nbformat": 4,
 "nbformat_minor": 2
}
