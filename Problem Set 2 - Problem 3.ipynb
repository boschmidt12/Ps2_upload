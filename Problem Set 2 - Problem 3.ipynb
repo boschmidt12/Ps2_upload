{
 "cells": [
  {
   "cell_type": "markdown",
   "metadata": {},
   "source": [
    "# Problem 3\n",
    "## Problem 3a)"
   ]
  },
  {
   "cell_type": "markdown",
   "metadata": {},
   "source": [
    "For the first question: Suppose a pace-maker is found to be defective ($D$), what is the probability that it came from the $A_2$ facility?\n",
    "\n",
    "This is simple application of Bayes' formula:\n",
    "\\begin{equation}\n",
    "P(A_2 \\mid D ) = \\frac{P(D \\mid A_2)P(A_2)}{\\sum_{i=1}^5 P(D \\mid A_i) P(A_i)}\n",
    "\\end{equation}\n",
    "Inserting the given values gives $$P(A_2 \\mid D) = 0.18.$$"
   ]
  },
  {
   "cell_type": "markdown",
   "metadata": {},
   "source": [
    "For the second question: If a defective pace-maker is found, which facility is it most likely to be from?\n",
    "This amounts to calculating $P(A_i \\mid D)$ for $i=1,\\ldots, 5$. We get\n",
    "\\begin{align}\n",
    "P(A_1 \\mid D) &= 0.21\\\\\n",
    "P(A_2 \\mid D) &= 0.18\\\\\n",
    "P(A_3 \\mid D) &= 0.15\\\\\n",
    "P(A_4 \\mid D) &= 0.21\\\\\n",
    "P(A_5 \\mid D) &= 0.24\n",
    "\\end{align}\n",
    "So it is most likely to be from $A_5$."
   ]
  },
  {
   "cell_type": "markdown",
   "metadata": {},
   "source": [
    "## Problem 3b"
   ]
  },
  {
   "cell_type": "markdown",
   "metadata": {},
   "source": [
    "We want that $P(A_i \\mid D) = P(A_j \\mid D)$ for $1 \\leq i,j \\leq n$. Whence,\n",
    "$$ \\frac{P(D \\mid A_i)P(A_i)}{\\sum_{k=1}^5 P(D \\mid A_k) P(A_k)} = \\frac{P(D \\mid A_j)P(A_j)}{\\sum_{k=1}^5 P(D \\mid A_k) P(A_k)}, \\qquad 1 \\leq i,j \\leq 5$$\n",
    "if and only if\n",
    "$$ P(D \\mid A_i)P(A_i) = P(D \\mid A_j)P(A_j), \\qquad 1 \\leq i,j \\leq 5.$$\n",
    "\n",
    "Performing the calculations, we get\n",
    "\\begin{align}\n",
    "P(D \\mid A_1) P(A_1) &= 0.007,\\\\\n",
    "P(D \\mid A_2) P(A_2) &= 0.006,\\\\\n",
    "P(D \\mid A_3) P(A_3) &= 0.005,\\\\\n",
    "P(D \\mid A_4) P(A_4) &= 0.007,\\\\\n",
    "P(D \\mid A_5) P(A_5) &= 0.00775.\n",
    "\\end{align}\n",
    "\n",
    "Thus, we must let $P(D \\mid A_i) P(A_i)=0.00775$ for $1 \\leq i \\leq 4$ by increasing $P(D \\mid A_i)$. Solving the resulting equations gives\n",
    "\n",
    "\\begin{align}\n",
    "P(D \\mid A_1) &= 2.2\\%,\\\\\n",
    "P(D \\mid A_2) &= 5.2\\%,\\\\\n",
    "P(D \\mid A_3) &= 15.5\\%,\\\\\n",
    "P(D \\mid A_4) &= 3.9\\%.\n",
    "\\end{align}"
   ]
  },
  {
   "cell_type": "markdown",
   "metadata": {},
   "source": [
    "## Problem 3c)"
   ]
  },
  {
   "cell_type": "code",
   "execution_count": 1,
   "metadata": {
    "collapsed": false
   },
   "outputs": [],
   "source": [
    "import numpy as np\n",
    "\n",
    "data = np.loadtxt('table_prb3c_use.txt')"
   ]
  },
  {
   "cell_type": "code",
   "execution_count": 2,
   "metadata": {
    "collapsed": false
   },
   "outputs": [
    {
     "data": {
      "text/plain": [
       "array([[ 0.27 ,  0.02 ],\n",
       "       [ 0.1  ,  0.04 ],\n",
       "       [ 0.05 ,  0.1  ],\n",
       "       [ 0.08 ,  0.035],\n",
       "       [ 0.25 ,  0.022],\n",
       "       [ 0.033,  0.092],\n",
       "       [ 0.019,  0.12 ],\n",
       "       [ 0.085,  0.07 ],\n",
       "       [ 0.033,  0.11 ],\n",
       "       [ 0.02 ,  0.02 ],\n",
       "       [ 0.015,  0.07 ],\n",
       "       [ 0.022,  0.06 ],\n",
       "       [ 0.015,  0.099],\n",
       "       [ 0.008,  0.082]])"
      ]
     },
     "execution_count": 2,
     "metadata": {},
     "output_type": "execute_result"
    }
   ],
   "source": [
    "data"
   ]
  },
  {
   "cell_type": "markdown",
   "metadata": {},
   "source": [
    "Determine the maximum value of the products $P(D \\mid A_i) P(A_i)$:"
   ]
  },
  {
   "cell_type": "code",
   "execution_count": 3,
   "metadata": {
    "collapsed": false
   },
   "outputs": [
    {
     "data": {
      "text/plain": [
       "7"
      ]
     },
     "execution_count": 3,
     "metadata": {},
     "output_type": "execute_result"
    }
   ],
   "source": [
    "lis1 = list()\n",
    "for i in range(len(data)):\n",
    "    val = data[i][0]*data[i][1]\n",
    "    lis1.append(val)\n",
    "itemindex = np.where(lis1==max(lis1))\n",
    "itemindex[0][0]\n",
    "#max(lis1)"
   ]
  },
  {
   "cell_type": "code",
   "execution_count": 4,
   "metadata": {
    "collapsed": false
   },
   "outputs": [
    {
     "data": {
      "text/plain": [
       "[0.0054000000000000003,\n",
       " 0.0040000000000000001,\n",
       " 0.005000000000000001,\n",
       " 0.0028000000000000004,\n",
       " 0.0054999999999999997,\n",
       " 0.0030360000000000001,\n",
       " 0.0022799999999999999,\n",
       " 0.0059500000000000013,\n",
       " 0.00363,\n",
       " 0.00040000000000000002,\n",
       " 0.0010500000000000002,\n",
       " 0.0013199999999999998,\n",
       " 0.001485,\n",
       " 0.00065600000000000001]"
      ]
     },
     "execution_count": 4,
     "metadata": {},
     "output_type": "execute_result"
    }
   ],
   "source": [
    "lis1"
   ]
  },
  {
   "cell_type": "code",
   "execution_count": 5,
   "metadata": {
    "collapsed": false
   },
   "outputs": [],
   "source": [
    "from sympy.solvers import solve\n",
    "from sympy import Symbol\n",
    "x = Symbol('x')\n",
    "\n",
    "#solve(x - 1, x)\n",
    "probvals = list()\n",
    "for i in range(len(data)):\n",
    "    val = solve(x*data[i][0]-lis1[7],x)\n",
    "    probvals.append(val)"
   ]
  },
  {
   "cell_type": "code",
   "execution_count": 6,
   "metadata": {
    "collapsed": false
   },
   "outputs": [
    {
     "data": {
      "text/plain": [
       "[[0.0220370370370370],\n",
       " [0.0595000000000000],\n",
       " [0.119000000000000],\n",
       " [0.0743750000000000],\n",
       " [0.0238000000000000],\n",
       " [0.180303030303030],\n",
       " [0.313157894736842],\n",
       " [0.0700000000000000],\n",
       " [0.180303030303030],\n",
       " [0.297500000000000],\n",
       " [0.396666666666667],\n",
       " [0.270454545454545],\n",
       " [0.396666666666667],\n",
       " [0.743750000000000]]"
      ]
     },
     "execution_count": 6,
     "metadata": {},
     "output_type": "execute_result"
    }
   ],
   "source": [
    "probvals"
   ]
  },
  {
   "cell_type": "code",
   "execution_count": 11,
   "metadata": {
    "collapsed": false
   },
   "outputs": [
    {
     "name": "stdout",
     "output_type": "stream",
     "text": [
      "This application is used to convert notebook files (*.ipynb) to various other\n",
      "formats.\n",
      "\n",
      "WARNING: THE COMMANDLINE INTERFACE MAY CHANGE IN FUTURE RELEASES.\n",
      "\n",
      "Options\n",
      "\n",
      "-------\n",
      "\n",
      "\n",
      "\n",
      "Arguments that take values are actually convenience aliases to full\n",
      "Configurables, whose aliases are listed on the help line. For more information\n",
      "on full configurables, see '--help-all'.\n",
      "\n",
      "\n",
      "--debug\n",
      "\n",
      "    set log level to logging.DEBUG (maximize logging output)\n",
      "\n",
      "--generate-config\n",
      "\n",
      "    generate default config file\n",
      "\n",
      "-y\n",
      "\n",
      "    Answer yes to any questions instead of prompting.\n",
      "\n",
      "--execute\n",
      "\n",
      "    Execute the notebook prior to export.\n",
      "\n",
      "--allow-errors\n",
      "\n",
      "    Continue notebook execution even if one of the cells throws an error and include the error message in the cell output (the default behaviour is to abort conversion). This flag is only relevant if '--execute' was specified, too.\n",
      "\n",
      "--stdin\n",
      "\n",
      "    read a single notebook file from stdin. Write the resulting notebook with default basename 'notebook.*'\n",
      "\n",
      "--stdout\n",
      "\n",
      "    Write notebook output to stdout instead of files.\n",
      "\n",
      "--inplace\n",
      "\n",
      "    Run nbconvert in place, overwriting the existing notebook (only \n",
      "    relevant when converting to notebook format)\n",
      "--log-level=<Enum> (Application.log_level)\n",
      "\n",
      "    Default: 30\n",
      "\n",
      "    Choices: (0, 10, 20, 30, 40, 50, 'DEBUG', 'INFO', 'WARN', 'ERROR', 'CRITICAL')\n",
      "\n",
      "    Set the log level by value or name.\n",
      "\n",
      "--config=<Unicode> (JupyterApp.config_file)\n",
      "\n",
      "    Default: ''\n",
      "\n",
      "    Full path of a config file.\n",
      "\n",
      "--to=<Unicode> (NbConvertApp.export_format)\n",
      "\n",
      "    Default: 'html'\n",
      "\n",
      "    The export format to be used, either one of the built-in formats, or a\n",
      "\n",
      "    dotted object name that represents the import path for an `Exporter` class\n",
      "\n",
      "--template=<Unicode> (TemplateExporter.template_file)\n",
      "\n",
      "    Default: ''\n",
      "\n",
      "    Name of the template file to use\n",
      "\n",
      "--writer=<DottedObjectName> (NbConvertApp.writer_class)\n",
      "\n",
      "    Default: 'FilesWriter'\n",
      "\n",
      "    Writer class used to write the  results of the conversion\n",
      "\n",
      "--post=<DottedOrNone> (NbConvertApp.postprocessor_class)\n",
      "\n",
      "    Default: ''\n",
      "\n",
      "    PostProcessor class used to write the results of the conversion\n",
      "\n",
      "--output=<Unicode> (NbConvertApp.output_base)\n",
      "\n",
      "    Default: ''\n",
      "\n",
      "    overwrite base name use for output files. can only be used when converting\n",
      "\n",
      "    one notebook at a time.\n",
      "\n",
      "--output-dir=<Unicode> (FilesWriter.build_directory)\n",
      "\n",
      "    Default: ''\n",
      "\n",
      "    Directory to write output to.  Leave blank to output to the current\n",
      "\n",
      "    directory\n",
      "\n",
      "--reveal-prefix=<Unicode> (SlidesExporter.reveal_url_prefix)\n",
      "\n",
      "    Default: ''\n",
      "\n",
      "    The URL prefix for reveal.js. This can be a a relative URL for a local copy\n",
      "\n",
      "    of reveal.js, or point to a CDN.\n",
      "\n",
      "    For speaker notes to work, a local reveal.js prefix must be used.\n",
      "\n",
      "--nbformat=<Enum> (NotebookExporter.nbformat_version)\n",
      "\n",
      "    Default: 4\n",
      "\n",
      "    Choices: [1, 2, 3, 4]\n",
      "\n",
      "    The nbformat version to write. Use this to downgrade notebooks.\n",
      "\n",
      "To see all available configurables, use `--help-all`\n",
      "\n",
      "Examples\n",
      "--------\n",
      "\n",
      "    The simplest way to use nbconvert is\n",
      "    \n",
      "    > jupyter nbconvert mynotebook.ipynb\n",
      "    \n",
      "    which will convert mynotebook.ipynb to the default format (probably HTML).\n",
      "    \n",
      "    You can specify the export format with `--to`.\n",
      "    Options include ['custom', 'html', 'latex', 'markdown', 'notebook', 'pdf', 'python', 'rst', 'script', 'slides']\n",
      "    \n",
      "    > jupyter nbconvert --to latex mynotebook.ipynb\n",
      "    \n",
      "    Both HTML and LaTeX support multiple output templates. LaTeX includes\n",
      "    'base', 'article' and 'report'.  HTML includes 'basic' and 'full'. You\n",
      "    can specify the flavor of the format used.\n",
      "    \n",
      "    > jupyter nbconvert --to html --template basic mynotebook.ipynb\n",
      "    \n",
      "    You can also pipe the output to stdout, rather than a file\n",
      "    \n",
      "    > jupyter nbconvert mynotebook.ipynb --stdout\n",
      "    \n",
      "    PDF is generated via latex\n",
      "    \n",
      "    > jupyter nbconvert mynotebook.ipynb --to pdf\n",
      "    \n",
      "    You can get (and serve) a Reveal.js-powered slideshow\n",
      "    \n",
      "    > jupyter nbconvert myslides.ipynb --to slides --post serve\n",
      "    \n",
      "    Multiple notebooks can be given at the command line in a couple of \n",
      "    different ways:\n",
      "    \n",
      "    > jupyter nbconvert notebook*.ipynb\n",
      "    > jupyter nbconvert notebook1.ipynb notebook2.ipynb\n",
      "    \n",
      "    or you can specify the notebooks list in a config file, containing::\n",
      "    \n",
      "        c.NbConvertApp.notebooks = [\"my_notebook.ipynb\"]\n",
      "    \n",
      "    > jupyter nbconvert --config mycfg.py\n",
      "\n"
     ]
    },
    {
     "name": "stderr",
     "output_type": "stream",
     "text": [
      "[NbConvertApp] CRITICAL | Bad config encountered during initialization:\n",
      "[NbConvertApp] CRITICAL | Invalid argument: '-'\n"
     ]
    }
   ],
   "source": [
    "!jupyter nbconvert Problem Set 2 - Problem 3.ipynb --to html"
   ]
  },
  {
   "cell_type": "code",
   "execution_count": null,
   "metadata": {
    "collapsed": true
   },
   "outputs": [],
   "source": []
  },
  {
   "cell_type": "code",
   "execution_count": null,
   "metadata": {
    "collapsed": true
   },
   "outputs": [],
   "source": []
  },
  {
   "cell_type": "code",
   "execution_count": null,
   "metadata": {
    "collapsed": true
   },
   "outputs": [],
   "source": []
  }
 ],
 "metadata": {
  "kernelspec": {
   "display_name": "Python 3",
   "language": "python",
   "name": "python3"
  },
  "language_info": {
   "codemirror_mode": {
    "name": "ipython",
    "version": 3
   },
   "file_extension": ".py",
   "mimetype": "text/x-python",
   "name": "python",
   "nbconvert_exporter": "python",
   "pygments_lexer": "ipython3",
   "version": "3.6.0"
  }
 },
 "nbformat": 4,
 "nbformat_minor": 2
}
